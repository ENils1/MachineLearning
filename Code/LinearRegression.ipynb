{
 "cells": [
  {
   "cell_type": "markdown",
   "metadata": {},
   "source": [
    "# Linear Regression\n"
   ]
  },
  {
   "cell_type": "markdown",
   "metadata": {},
   "source": [
    "### Initialization"
   ]
  },
  {
   "cell_type": "code",
   "execution_count": 1,
   "metadata": {},
   "outputs": [],
   "source": [
    "from sklearn.linear_model import LinearRegression\n",
    "from utility import start_legacy\n",
    "from utility import train\n",
    "\n",
    "X_train, X_test, y_train, y_test, df = start_legacy(\"EncodedDataMidTerm.csv\")"
   ]
  },
  {
   "cell_type": "code",
   "execution_count": 2,
   "metadata": {},
   "outputs": [
    {
     "name": "stdout",
     "output_type": "stream",
     "text": [
      "Training Set Scores:\n",
      "Mean Absolute Error (MAE): 2.74 M\n",
      "Mean Absolute Percentage Error (MAPE): 92.14 %\n",
      "R-squared (R^2): 0.35\n",
      "Mean Squared Error (MSE): 71209020.03 M\n",
      "\n",
      "Test Set Scores:\n",
      "Mean Absolute Error (MAE): 2.74 M\n",
      "Mean Absolute Percentage Error (MAPE): 93.84 %\n",
      "R-squared (R^2): 0.51\n",
      "Mean Squared Error (MSE): 59927753.1 M\n"
     ]
    }
   ],
   "source": [
    "model = LinearRegression()\n",
    "y_pred, y_pred_original, y_test_original = train(model, X_train, X_test, y_train, y_test)"
   ]
  }
 ],
 "metadata": {
  "kernelspec": {
   "display_name": ".venv",
   "language": "python",
   "name": "python3"
  },
  "language_info": {
   "codemirror_mode": {
    "name": "ipython",
    "version": 3
   },
   "file_extension": ".py",
   "mimetype": "text/x-python",
   "name": "python",
   "nbconvert_exporter": "python",
   "pygments_lexer": "ipython3",
   "version": "3.11.3"
  }
 },
 "nbformat": 4,
 "nbformat_minor": 2
}
