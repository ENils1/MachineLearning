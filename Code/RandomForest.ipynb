{
 "cells": [
  {
   "cell_type": "markdown",
   "metadata": {},
   "source": [
    "# Random Forest\n"
   ]
  },
  {
   "cell_type": "markdown",
   "metadata": {},
   "source": [
    "### Initialization"
   ]
  },
  {
   "cell_type": "code",
   "execution_count": 1,
   "metadata": {},
   "outputs": [],
   "source": [
    "from sklearn.ensemble import RandomForestRegressor\n",
    "from utility import start_legacy\n",
    "from utility import train\n",
    "\n",
    "X_train, X_test, y_train, y_test, df = start_legacy(\"EncodedDataMidTerm.csv\")"
   ]
  },
  {
   "cell_type": "code",
   "execution_count": 3,
   "metadata": {},
   "outputs": [
    {
     "name": "stdout",
     "output_type": "stream",
     "text": [
      "Training Set Scores:\n",
      "Mean Absolute Error (MAE): 2.57 M\n",
      "Mean Absolute Percentage Error (MAPE): 71.52 %\n",
      "R-squared (R^2): 0.57\n",
      "Mean Squared Error (MSE): 46882502.0 M\n",
      "\n",
      "Test Set Scores:\n",
      "Mean Absolute Error (MAE): 2.66 M\n",
      "Mean Absolute Percentage Error (MAPE): 71.82 %\n",
      "R-squared (R^2): 0.54\n",
      "Mean Squared Error (MSE): 56503561.41 M\n"
     ]
    }
   ],
   "source": [
    "model = RandomForestRegressor(n_estimators=50, max_depth=7, random_state=42)\n",
    "y_pred, y_pred_original, y_test_original = train(model, X_train, X_test, y_train, y_test)"
   ]
  }
 ],
 "metadata": {
  "kernelspec": {
   "display_name": ".venv",
   "language": "python",
   "name": "python3"
  },
  "language_info": {
   "codemirror_mode": {
    "name": "ipython",
    "version": 3
   },
   "file_extension": ".py",
   "mimetype": "text/x-python",
   "name": "python",
   "nbconvert_exporter": "python",
   "pygments_lexer": "ipython3",
   "version": "3.11.3"
  }
 },
 "nbformat": 4,
 "nbformat_minor": 2
}
