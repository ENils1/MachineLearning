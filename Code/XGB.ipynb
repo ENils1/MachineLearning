{
 "cells": [
  {
   "cell_type": "markdown",
   "metadata": {},
   "source": [
    "# Extreme Gradient Boost\n"
   ]
  },
  {
   "cell_type": "markdown",
   "metadata": {},
   "source": [
    "### Initialization"
   ]
  },
  {
   "cell_type": "code",
   "execution_count": null,
   "metadata": {},
   "outputs": [],
   "source": [
    "\n",
    "from xgboost import XGBRegressor\n",
    "import numpy as np\n",
    "import matplotlib.pyplot as plt\n",
    "from matplotlib.ticker import FuncFormatter\n",
    "from utility import start_xgb\n",
    "from utility import train\n",
    "from utility import display\n",
    "\n",
    "\n",
    "X_train, X_test, y_train, y_test, df = start_xgb(\"EncodedData.csv\")\n",
    "X_test.head()\n"
   ]
  },
  {
   "cell_type": "code",
   "execution_count": null,
   "metadata": {},
   "outputs": [],
   "source": [
    "params = {\n",
    "    'n_estimators': 3392,\n",
    "    'max_depth': 10,\n",
    "    'learning_rate': 0.02,\n",
    "    'subsample': 0.89,\n",
    "    'colsample_bytree': 0.88,\n",
    "    'gamma': 0.00,\n",
    "    'alpha': 0.59,\n",
    "    'lambda': 0.25,\n",
    "    'min_child_weight': 1\n",
    "}\n",
    "model = XGBRegressor(**params, random_state=42)\n",
    "y_pred, y_pred_original, y_test_original = train(model, X_train, X_test, y_train, y_test)\n"
   ]
  },
  {
   "cell_type": "code",
   "execution_count": null,
   "metadata": {},
   "outputs": [],
   "source": [
    "results, z = display(df, X_test, y_pred)\n",
    "results"
   ]
  },
  {
   "cell_type": "code",
   "execution_count": null,
   "metadata": {},
   "outputs": [],
   "source": [
    "distances = np.abs(y_pred_original - y_test_original)\n",
    "max_distance_indices = np.argsort(distances)[-10:]\n",
    "furthest_names = z.iloc[max_distance_indices]['Name'].tolist()\n",
    "\n",
    "# Plot\n",
    "plt.figure(figsize=(8, 6))\n",
    "plt.scatter(y_test_original, y_pred_original, s=20, color='blue', alpha=0.5, marker='o', label='Predicted Values')\n",
    "plt.xlabel(\"Real Value (EUR)\")\n",
    "plt.ylabel(\"Predicted Value (EUR)\")\n",
    "plt.title(\"Real Value vs Predicted Value\")\n",
    "plt.plot([min(y_test_original), max(y_test_original)], [min(y_test_original), max(y_test_original)], color='red', label='Perfect Prediction Line')\n",
    "plt.text(min(y_test_original), max(y_pred_original), \"Overestimation\", fontsize=10, color='green', verticalalignment='top', horizontalalignment='left')\n",
    "plt.text(max(y_test_original), min(y_pred_original), \"Underestimation\", fontsize=10, color='orange', verticalalignment='bottom', horizontalalignment='right')\n",
    "\n",
    "for index, row in z.iterrows():\n",
    "    if row['Name'] in furthest_names:\n",
    "        plt.annotate(row['Name'], (row['Market Value'], row['Predicted Value']), fontsize=6, color='black')\n",
    "\n",
    "def millions_formatter(x, pos):\n",
    "    return f'{x / 1000000:.0f}M'\n",
    "\n",
    "formatter = FuncFormatter(millions_formatter)\n",
    "plt.gca().xaxis.set_major_formatter(formatter)\n",
    "plt.gca().yaxis.set_major_formatter(formatter)\n",
    "\n",
    "plt.grid(alpha=0.2, linestyle='--', zorder=1)\n",
    "plt.legend()\n",
    "plt.tight_layout()\n",
    "plt.show()\n"
   ]
  },
  {
   "cell_type": "code",
   "execution_count": null,
   "metadata": {},
   "outputs": [],
   "source": [
    "import numpy as np\n",
    "\n",
    "# Calculate distances of each point from the optimal line\n",
    "distances = np.abs(y_pred_original - y_test_original)\n",
    "\n",
    "# Find the indices of points with maximum distances\n",
    "max_distance_indices = np.argsort(distances)[-30:]  # Adjust the number to show more or fewer names\n",
    "\n",
    "# Get the corresponding player names\n",
    "furthest_names = z.iloc[max_distance_indices]['Name'].tolist()\n",
    "\n",
    "# Plot\n",
    "plt.figure(figsize=(12, 6))\n",
    "plt.scatter(y_test_original, y_pred_original, s=20, color='blue', alpha=0.5, marker='o', label='Predicted Values')\n",
    "plt.xlabel(\"True Value (EUR)\")\n",
    "plt.ylabel(\"Predicted Value (EUR)\")\n",
    "plt.title(\"True Value vs Predicted Value (XGBoost)\")\n",
    "plt.plot([min(y_test_original), max(y_test_original)], [min(y_test_original), max(y_test_original)], color='red', label='Perfect Prediction Line')\n",
    "plt.text(min(y_test_original), max(y_pred_original), \"Overestimation\", fontsize=10, color='green', verticalalignment='top', horizontalalignment='left')\n",
    "plt.text(max(y_test_original), min(y_pred_original), \"Underestimation\", fontsize=10, color='orange', verticalalignment='bottom', horizontalalignment='right')\n",
    "\n",
    "# Annotate only the furthest points\n",
    "for index in max_distance_indices:\n",
    "    row = z.iloc[index]\n",
    "    plt.annotate(row['Name'], (row['Market Value'], row['Predicted Value']), fontsize=6, color='black')\n",
    "\n",
    "# Set formatter for x-axis and y-axis\n",
    "def millions_formatter(x, pos):\n",
    "    return f'{x / 1000000:.0f}M'\n",
    "\n",
    "# Identify the 1% most valuable players\n",
    "top_1_percent = z.nlargest(int(len(z) * 0.05), 'Market Value')\n",
    "top_1_percent = top_1_percent.sort_values(by='Market Value')\n",
    "lowest_value_player = top_1_percent.iloc[0]['Market Value']\n",
    "# Add vertical line for the 1% most valuable players\n",
    "print(lowest_value_player)\n",
    "plt.axvline(x=lowest_value_player, color='gray', linestyle='--', label='5% Most Valuable Players', alpha=0.5)\n",
    "    \n",
    "formatter = FuncFormatter(millions_formatter)\n",
    "plt.gca().xaxis.set_major_formatter(formatter)\n",
    "plt.gca().yaxis.set_major_formatter(formatter)\n",
    "\n",
    "plt.grid(alpha=0.2, linestyle='--', zorder=1)\n",
    "plt.legend()\n",
    "plt.tight_layout()\n",
    "plt.show()\n"
   ]
  }
 ],
 "metadata": {
  "kernelspec": {
   "display_name": ".venv",
   "language": "python",
   "name": "python3"
  },
  "language_info": {
   "codemirror_mode": {
    "name": "ipython",
    "version": 3
   },
   "file_extension": ".py",
   "mimetype": "text/x-python",
   "name": "python",
   "nbconvert_exporter": "python",
   "pygments_lexer": "ipython3",
   "version": "3.11.3"
  }
 },
 "nbformat": 4,
 "nbformat_minor": 2
}
