{
 "cells": [
  {
   "cell_type": "markdown",
   "metadata": {},
   "source": [
    "# Desicion Tree\n"
   ]
  },
  {
   "cell_type": "markdown",
   "metadata": {},
   "source": [
    "### Initialization"
   ]
  },
  {
   "cell_type": "code",
   "execution_count": 1,
   "metadata": {},
   "outputs": [],
   "source": [
    "from sklearn.tree import DecisionTreeRegressor\n",
    "from utility import start_legacy\n",
    "from utility import train\n",
    "\n",
    "X_train, X_test, y_train, y_test, df = start_legacy(\"EncodedDataMidTerm.csv\")"
   ]
  },
  {
   "cell_type": "code",
   "execution_count": 2,
   "metadata": {},
   "outputs": [
    {
     "name": "stdout",
     "output_type": "stream",
     "text": [
      "Training Set Scores:\n",
      "Mean Absolute Error (MAE): 0.15 M\n",
      "Mean Absolute Percentage Error (MAPE): 2.64 %\n",
      "R-squared (R^2): 1.0\n",
      "Mean Squared Error (MSE): 500056.06 M\n",
      "\n",
      "Test Set Scores:\n",
      "Mean Absolute Error (MAE): 2.06 M\n",
      "Mean Absolute Percentage Error (MAPE): 76.3 %\n",
      "R-squared (R^2): 0.74\n",
      "Mean Squared Error (MSE): 31350075.33 M\n"
     ]
    }
   ],
   "source": [
    "model = DecisionTreeRegressor()\n",
    "y_pred, y_pred_original, y_test_original = train(model, X_train, X_test, y_train, y_test)"
   ]
  }
 ],
 "metadata": {
  "kernelspec": {
   "display_name": ".venv",
   "language": "python",
   "name": "python3"
  },
  "language_info": {
   "codemirror_mode": {
    "name": "ipython",
    "version": 3
   },
   "file_extension": ".py",
   "mimetype": "text/x-python",
   "name": "python",
   "nbconvert_exporter": "python",
   "pygments_lexer": "ipython3",
   "version": "3.11.3"
  }
 },
 "nbformat": 4,
 "nbformat_minor": 2
}
