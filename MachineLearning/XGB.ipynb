{
 "cells": [
  {
   "cell_type": "markdown",
   "metadata": {},
   "source": [
    "# Extreme Gradient Boost\n"
   ]
  },
  {
   "cell_type": "markdown",
   "metadata": {},
   "source": [
    "### Initialization"
   ]
  },
  {
   "cell_type": "code",
   "execution_count": null,
   "metadata": {},
   "outputs": [],
   "source": [
    "\n",
    "from xgboost import XGBRegressor\n",
    "import xgboost as xgb\n",
    "from utility import start\n",
    "from utility import train\n",
    "from utility import display\n",
    "\n",
    "X_train, X_test, y_train, y_test, df = start(\"encoded_data_04_18.csv\")\n",
    "df.shape"
   ]
  },
  {
   "cell_type": "code",
   "execution_count": null,
   "metadata": {},
   "outputs": [],
   "source": [
    "#model = XGBRegressor(n_estimators=2000, max_depth=10, random_state=42, learning_rate=0.25, tree_method=\"hist\")\n",
    "#odel = xgb()\n",
    "# Defining hyperparameters for XGBoost\n",
    "params = {\n",
    "    'objective': 'reg:absoluteerror',  # for regression\n",
    "    'max_depth': 7,                    # maximum depth of a tree\n",
    "    'learning_rate': 0.25,              # learning rate\n",
    "    'n_estimators': 5000,              # number of trees\n",
    "    'lamda': 0.9,                      # regularization parameter\n",
    "    'subsample': 0.8,                  # subsample ratio of the training instances\n",
    "    'colsample_bytree': 0.8,           # subsample ratio of columns when constructing each tree\n",
    "    'min_child_weight': 1,             # minimum sum of instance weight needed in a child\n",
    "}\n",
    "\n",
    "# Instantiating the XGBoost regressor\n",
    "model = xgb.XGBRegressor(**params)\n",
    "\n",
    "y_pred, y_pred_original, y_test_original, y_train_pred_original, _, _ = train(model, X_train, X_test, y_train, y_test)\n",
    "#1.51, 41% - 1.76, 49%"
   ]
  },
  {
   "cell_type": "markdown",
   "metadata": {},
   "source": [
    "Training Set Scores:\n",
    "Mean Absolute Error (MAE): 0.15 M\n",
    "Mean Absolute Percentage Error (MAPE): 8.64 %\n",
    "\n",
    "Test Set Scores:\n",
    "Mean Absolute Error (MAE): 1.0 M\n",
    "Mean Absolute Percentage Error (MAPE): 57.87 %"
   ]
  },
  {
   "cell_type": "code",
   "execution_count": null,
   "metadata": {},
   "outputs": [],
   "source": [
    "import graphviz\n",
    "import numpy as np\n",
    "import pandas as pd\n",
    "from sklearn.tree import DecisionTreeRegressor, export_graphviz\n",
    "\n",
    "import shap\n",
    "\n",
    "\n",
    "# Creating a SHAP explainer object\n",
    "explainer = shap.TreeExplainer(model)\n",
    "\n",
    "# Calculating SHAP values for the testing data\n",
    "shap_values = explainer.shap_values(X_test)\n",
    "\n",
    "# Visualizing the SHAP summary plot\n",
    "shap.summary_plot(shap_values, X_test)"
   ]
  },
  {
   "cell_type": "code",
   "execution_count": null,
   "metadata": {},
   "outputs": [],
   "source": [
    "# Selecting a random subset of samples for visualization\n",
    "sample_indices = np.random.choice(X_test.shape[0], 10, replace=False)\n",
    "X_test_subset = X_test.iloc[sample_indices]\n",
    "\n",
    "# Calculating SHAP values for the subset of testing data\n",
    "shap_values = explainer.shap_values(X_test_subset)\n",
    "\n",
    "# Visualizing the individual decision trees with SHAP\n",
    "shap.decision_plot(explainer.expected_value, shap_values, X_test_subset)"
   ]
  },
  {
   "cell_type": "code",
   "execution_count": null,
   "metadata": {},
   "outputs": [],
   "source": [
    "shap_values"
   ]
  },
  {
   "cell_type": "code",
   "execution_count": null,
   "metadata": {},
   "outputs": [],
   "source": [
    "# Creating a SHAP explainer object\n",
    "explainer = shap.TreeExplainer(model)\n",
    "\n",
    "# Calculating SHAP values for the testing data\n",
    "shap_values = explainer.shap_values(X_test)\n",
    "\n",
    "# Calculating SHAP summary values\n",
    "shap_summary_values = np.abs(shap_values).mean(axis=0)\n",
    "\n",
    "# Identifying the indices of the top 10 most valuable players\n",
    "top_10_indices = shap_values.argsort()[-10:][::-1]\n",
    "print(top_10_indices)\n",
    "\n",
    "# Selecting the top 10 most valuable players from the testing data\n",
    "X_top_10 = X_test.iloc[top_10_indices]\n",
    "\n",
    "# Calculating SHAP values for the top 10 most valuable players\n",
    "shap_values_top_10 = explainer.shap_values(X_top_10)\n",
    "\n",
    "# Visualizing the individual decision trees with SHAP for the top 10 most valuable players\n",
    "shap.decision_plot(explainer.expected_value, shap_values_top_10, X_top_10)"
   ]
  },
  {
   "cell_type": "code",
   "execution_count": null,
   "metadata": {},
   "outputs": [],
   "source": [
    "results, z = display(df, X_test, y_pred)\n",
    "results\n"
   ]
  },
  {
   "cell_type": "code",
   "execution_count": null,
   "metadata": {},
   "outputs": [],
   "source": [
    "import numpy as np\n",
    "import matplotlib.pyplot as plt\n",
    "from matplotlib.ticker import FuncFormatter\n",
    "# Calculate distances of each point from the optimal line\n",
    "distances = np.abs(y_pred_original - y_test_original)\n",
    "\n",
    "# Find the indices of points with maximum distances\n",
    "max_distance_indices = np.argsort(distances)[-30:]  # Adjust the number to show more or fewer names\n",
    "\n",
    "# Get the corresponding player names\n",
    "furthest_names = z.iloc[max_distance_indices]['name'].tolist()\n",
    "\n",
    "# Plot\n",
    "plt.figure(figsize=(8, 6))\n",
    "plt.scatter(y_test_original, y_pred_original, s=20, color='blue', alpha=0.5, marker='o', label='Predicted Values')\n",
    "plt.xlabel(\"Real Value (EUR)\")\n",
    "plt.ylabel(\"Predicted Value (EUR)\")\n",
    "plt.title(\"Real Value vs Predicted Value\")\n",
    "plt.plot([min(y_test_original), max(y_test_original)], [min(y_test_original), max(y_test_original)], color='red', label='Perfect Prediction Line')\n",
    "plt.text(min(y_test_original), max(y_pred_original), \"Overestimation\", fontsize=10, color='green', verticalalignment='top', horizontalalignment='left')\n",
    "plt.text(max(y_test_original), min(y_pred_original), \"Underestimation\", fontsize=10, color='orange', verticalalignment='bottom', horizontalalignment='right')\n",
    "\n",
    "# Annotate only the furthest points\n",
    "for index, row in z.iterrows():\n",
    "    if row['name'] in furthest_names:\n",
    "        plt.annotate(row['name'], (row['market_value_in_eur'], row['Predicted_Value']), fontsize=6, color='black')\n",
    "\n",
    "# Set formatter for x-axis and y-axis\n",
    "def millions_formatter(x, pos):\n",
    "    return f'{x / 1000000:.0f}M'\n",
    "\n",
    "formatter = FuncFormatter(millions_formatter)\n",
    "plt.gca().xaxis.set_major_formatter(formatter)\n",
    "plt.gca().yaxis.set_major_formatter(formatter)\n",
    "\n",
    "plt.grid(alpha=0.2, linestyle='--', zorder=1)\n",
    "plt.legend()\n",
    "plt.tight_layout()\n",
    "plt.show()\n"
   ]
  },
  {
   "cell_type": "code",
   "execution_count": null,
   "metadata": {},
   "outputs": [],
   "source": [
    "y_train.shape\n",
    "y_train_original = np.power(10, y_train)\n",
    "y_train_original.shape\n",
    "print(y_train_original.shape, y_train_pred_original.shape)"
   ]
  },
  {
   "cell_type": "code",
   "execution_count": null,
   "metadata": {},
   "outputs": [],
   "source": [
    "import numpy as np\n",
    "import matplotlib.pyplot as plt\n",
    "from matplotlib.ticker import FuncFormatter\n",
    "# Calculate distances of each point from the optimal line\n",
    "\n",
    "y_train_original = np.power(10, y_train)\n",
    "distances = np.abs(y_train_pred_original - y_train_original)\n",
    "\n",
    "# Find the indices of points with maximum distances\n",
    "max_distance_indices = np.argsort(distances)[-10:]  # Adjust the number to show more or fewer names\n",
    "\n",
    "# Get the corresponding player names\n",
    "#furthest_names = z.iloc[max_distance_indices]['name'].tolist()\n",
    "\n",
    "# Plot\n",
    "plt.figure(figsize=(8, 6))\n",
    "plt.scatter(y_train_original, y_train_pred_original, s=20, color='blue', alpha=0.5, marker='o', label='Predicted Values')\n",
    "plt.xlabel(\"Real Value (EUR)\")\n",
    "plt.ylabel(\"Predicted Value (EUR)\")\n",
    "plt.title(\"Real Value vs Predicted Value\")\n",
    "plt.plot([min(y_train_pred_original), max(y_train_pred_original)], [min(y_train_pred_original), max(y_train_pred_original)], color='red', label='Perfect Prediction Line')\n",
    "plt.text(min(y_train_original), max(y_train_pred_original), \"Overestimation\", fontsize=10, color='green', verticalalignment='top', horizontalalignment='left')\n",
    "plt.text(max(y_train_original), min(y_train_pred_original), \"Underestimation\", fontsize=10, color='orange', verticalalignment='bottom', horizontalalignment='right')\n",
    "\n",
    "# Annotate only the furthest points\n",
    "#for index, row in z.iterrows():\n",
    "#    if row['name'] in furthest_names:\n",
    "#        plt.annotate(row['name'], (row['market_value_in_eur'], row['Predicted_Value']), fontsize=6, color='black')\n",
    "\n",
    "# Set formatter for x-axis and y-axis\n",
    "def millions_formatter(x, pos):\n",
    "    return f'{x / 1000000:.0f}M'\n",
    "\n",
    "formatter = FuncFormatter(millions_formatter)\n",
    "plt.gca().xaxis.set_major_formatter(formatter)\n",
    "plt.gca().yaxis.set_major_formatter(formatter)\n",
    "\n",
    "plt.grid(alpha=0.2, linestyle='--', zorder=1)\n",
    "plt.legend()\n",
    "plt.tight_layout()\n",
    "plt.show()\n"
   ]
  },
  {
   "cell_type": "code",
   "execution_count": null,
   "metadata": {},
   "outputs": [],
   "source": [
    "import matplotlib.pyplot as plt\n",
    "\n",
    "# Scatter plot\n",
    "plt.scatter(y_test, y_pred, s=20, color='blue', alpha=0.5)  # Set dot size to 20, blue color, and transparency to 0.5\n",
    "plt.xlabel(\"Real value\")\n",
    "plt.ylabel(\"Predicted value\")\n",
    "plt.title(\"Value vs Predicted value\")\n",
    "\n",
    "# Add diagonal line\n",
    "plt.plot([min(y_test), max(y_test)], [min(y_test), max(y_test)], color='red')\n",
    "plt.text(min(y_test), max(y_pred), \"Over evaluation\", fontsize=10, color='green', verticalalignment='top', horizontalalignment='left')\n",
    "plt.text(max(y_test), min(y_pred), \"Under evaluation\", fontsize=10, color='orange', verticalalignment='bottom', horizontalalignment='right')\n",
    "plt.grid(alpha=0.2, zorder=1)\n",
    "\n",
    "plt.show()\n"
   ]
  },
  {
   "cell_type": "code",
   "execution_count": null,
   "metadata": {},
   "outputs": [],
   "source": [
    "import numpy as np\n",
    "\n",
    "# Calculate distances of each point from the optimal line\n",
    "distances = np.abs(y_pred_original - y_test_original)\n",
    "\n",
    "# Find the indices of points with maximum distances\n",
    "max_distance_indices = np.argsort(distances)[-30:]  # Adjust the number to show more or fewer names\n",
    "\n",
    "# Get the corresponding player names\n",
    "furthest_names = z.iloc[max_distance_indices]['name'].tolist()\n",
    "\n",
    "# Plot\n",
    "plt.figure(figsize=(8, 6))\n",
    "plt.scatter(y_test_original, y_pred_original, s=20, color='blue', alpha=0.5, marker='o', label='Predicted Values')\n",
    "plt.xlabel(\"True Value (EUR)\")\n",
    "plt.ylabel(\"Predicted Value (EUR)\")\n",
    "plt.title(\"True Value vs Predicted Value (XGBoost)\")\n",
    "plt.plot([min(y_test_original), max(y_test_original)], [min(y_test_original), max(y_test_original)], color='red', label='Perfect Prediction Line')\n",
    "plt.text(min(y_test_original), max(y_pred_original), \"Overestimation\", fontsize=10, color='green', verticalalignment='top', horizontalalignment='left')\n",
    "plt.text(max(y_test_original), min(y_pred_original), \"Underestimation\", fontsize=10, color='orange', verticalalignment='bottom', horizontalalignment='right')\n",
    "\n",
    "# Annotate only the furthest points\n",
    "for index in max_distance_indices:\n",
    "    row = z.iloc[index]\n",
    "    plt.annotate(row['name'], (row['market_value_in_eur'], row['Predicted_Value']), fontsize=6, color='black')\n",
    "\n",
    "# Set formatter for x-axis and y-axis\n",
    "def millions_formatter(x, pos):\n",
    "    return f'{x / 1000000:.0f}M'\n",
    "\n",
    "# Identify the 1% most valuable players\n",
    "top_1_percent = z.nlargest(int(len(z) * 0.05), 'market_value_in_eur')\n",
    "top_1_percent = top_1_percent.sort_values(by='market_value_in_eur')\n",
    "lowest_value_player = top_1_percent.iloc[0]['market_value_in_eur']\n",
    "# Add vertical line for the 1% most valuable players\n",
    "print(lowest_value_player)\n",
    "plt.axvline(x=lowest_value_player, color='gray', linestyle='--', label='5% Most Valuable Players', alpha=0.5)\n",
    "    \n",
    "formatter = FuncFormatter(millions_formatter)\n",
    "plt.gca().xaxis.set_major_formatter(formatter)\n",
    "plt.gca().yaxis.set_major_formatter(formatter)\n",
    "\n",
    "plt.grid(alpha=0.2, linestyle='--', zorder=1)\n",
    "plt.legend()\n",
    "plt.tight_layout()\n",
    "plt.show()\n"
   ]
  },
  {
   "cell_type": "code",
   "execution_count": null,
   "metadata": {},
   "outputs": [],
   "source": [
    "XGBRegressor.plot_importance(model)"
   ]
  }
 ],
 "metadata": {
  "kernelspec": {
   "display_name": ".venv",
   "language": "python",
   "name": "python3"
  },
  "language_info": {
   "codemirror_mode": {
    "name": "ipython",
    "version": 3
   },
   "file_extension": ".py",
   "mimetype": "text/x-python",
   "name": "python",
   "nbconvert_exporter": "python",
   "pygments_lexer": "ipython3",
   "version": "3.11.3"
  }
 },
 "nbformat": 4,
 "nbformat_minor": 2
}
