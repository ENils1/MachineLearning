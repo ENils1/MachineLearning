{
 "cells": [
  {
   "cell_type": "markdown",
   "metadata": {},
   "source": [
    "# Extreme Gradient Boost\n"
   ]
  },
  {
   "cell_type": "markdown",
   "metadata": {},
   "source": [
    "### Initialization"
   ]
  },
  {
   "cell_type": "code",
   "execution_count": null,
   "metadata": {},
   "outputs": [],
   "source": [
    "\n",
    "from xgboost import XGBRegressor\n",
    "from utility import start\n",
    "from utility import train\n",
    "from utility import display\n",
    "\n",
    "X_train, X_test, y_train, y_test, df = start(\"encoded_data_04_24.csv\")\n",
    "print(df)"
   ]
  },
  {
   "cell_type": "code",
   "execution_count": null,
   "metadata": {},
   "outputs": [],
   "source": [
    "\n",
    "model = XGBRegressor(n_estimators=2500, max_depth=9, learning_rate = 0.03, random_state=42)\n",
    "y_pred, y_pred_original, y_test_original = train(model, X_train, X_test, y_train, y_test)\n"
   ]
  },
  {
   "cell_type": "code",
   "execution_count": null,
   "metadata": {},
   "outputs": [],
   "source": [
    "results, z = display(df, X_test, y_pred)\n",
    "results"
   ]
  },
  {
   "cell_type": "code",
   "execution_count": null,
   "metadata": {},
   "outputs": [],
   "source": [
    "import numpy as np\n",
    "import matplotlib.pyplot as plt\n",
    "from matplotlib.ticker import FuncFormatter\n",
    "# Calculate distances of each point from the optimal line\n",
    "distances = np.abs(y_pred_original - y_test_original)\n",
    "\n",
    "# Find the indices of points with maximum distances\n",
    "max_distance_indices = np.argsort(distances)[-10:]  # Adjust the number to show more or fewer names\n",
    "\n",
    "# Get the corresponding player names\n",
    "furthest_names = z.iloc[max_distance_indices]['name'].tolist()\n",
    "\n",
    "# Plot\n",
    "plt.figure(figsize=(8, 6))\n",
    "plt.scatter(y_test_original, y_pred_original, s=20, color='blue', alpha=0.5, marker='o', label='Predicted Values')\n",
    "plt.xlabel(\"Real Value (EUR)\")\n",
    "plt.ylabel(\"Predicted Value (EUR)\")\n",
    "plt.title(\"Real Value vs Predicted Value\")\n",
    "plt.plot([min(y_test_original), max(y_test_original)], [min(y_test_original), max(y_test_original)], color='red', label='Perfect Prediction Line')\n",
    "plt.text(min(y_test_original), max(y_pred_original), \"Overestimation\", fontsize=10, color='green', verticalalignment='top', horizontalalignment='left')\n",
    "plt.text(max(y_test_original), min(y_pred_original), \"Underestimation\", fontsize=10, color='orange', verticalalignment='bottom', horizontalalignment='right')\n",
    "\n",
    "# Annotate only the furthest points\n",
    "for index, row in z.iterrows():\n",
    "    if row['name'] in furthest_names:\n",
    "        plt.annotate(row['name'], (row['market_value_in_eur'], row['Predicted_Value']), fontsize=6, color='black')\n",
    "\n",
    "# Set formatter for x-axis and y-axis\n",
    "def millions_formatter(x, pos):\n",
    "    return f'{x / 1000000:.0f}M'\n",
    "\n",
    "formatter = FuncFormatter(millions_formatter)\n",
    "plt.gca().xaxis.set_major_formatter(formatter)\n",
    "plt.gca().yaxis.set_major_formatter(formatter)\n",
    "\n",
    "plt.grid(alpha=0.2, linestyle='--', zorder=1)\n",
    "plt.legend()\n",
    "plt.tight_layout()\n",
    "plt.show()\n"
   ]
  },
  {
   "cell_type": "code",
   "execution_count": null,
   "metadata": {},
   "outputs": [],
   "source": [
    "import matplotlib.pyplot as plt\n",
    "\n",
    "# Scatter plot\n",
    "plt.scatter(y_test, y_pred, s=20, color='blue', alpha=0.5)  # Set dot size to 20, blue color, and transparency to 0.5\n",
    "plt.xlabel(\"Real value\")\n",
    "plt.ylabel(\"Predicted value\")\n",
    "plt.title(\"Value vs Predicted value\")\n",
    "\n",
    "# Add diagonal line\n",
    "plt.plot([min(y_test), max(y_test)], [min(y_test), max(y_test)], color='red')\n",
    "plt.text(min(y_test), max(y_pred), \"Over evaluation\", fontsize=10, color='green', verticalalignment='top', horizontalalignment='left')\n",
    "plt.text(max(y_test), min(y_pred), \"Under evaluation\", fontsize=10, color='orange', verticalalignment='bottom', horizontalalignment='right')\n",
    "plt.grid(alpha=0.2, zorder=1)\n",
    "\n",
    "plt.show()\n"
   ]
  },
  {
   "cell_type": "code",
   "execution_count": null,
   "metadata": {},
   "outputs": [],
   "source": [
    "import numpy as np\n",
    "\n",
    "# Calculate distances of each point from the optimal line\n",
    "distances = np.abs(y_pred_original - y_test_original)\n",
    "\n",
    "# Find the indices of points with maximum distances\n",
    "max_distance_indices = np.argsort(distances)[-30:]  # Adjust the number to show more or fewer names\n",
    "\n",
    "# Get the corresponding player names\n",
    "furthest_names = z.iloc[max_distance_indices]['name'].tolist()\n",
    "\n",
    "# Plot\n",
    "plt.figure(figsize=(8, 6))\n",
    "plt.scatter(y_test_original, y_pred_original, s=20, color='blue', alpha=0.5, marker='o', label='Predicted Values')\n",
    "plt.xlabel(\"True Value (EUR)\")\n",
    "plt.ylabel(\"Predicted Value (EUR)\")\n",
    "plt.title(\"True Value vs Predicted Value (XGBoost)\")\n",
    "plt.plot([min(y_test_original), max(y_test_original)], [min(y_test_original), max(y_test_original)], color='red', label='Perfect Prediction Line')\n",
    "plt.text(min(y_test_original), max(y_pred_original), \"Overestimation\", fontsize=10, color='green', verticalalignment='top', horizontalalignment='left')\n",
    "plt.text(max(y_test_original), min(y_pred_original), \"Underestimation\", fontsize=10, color='orange', verticalalignment='bottom', horizontalalignment='right')\n",
    "\n",
    "# Annotate only the furthest points\n",
    "for index in max_distance_indices:\n",
    "    row = z.iloc[index]\n",
    "    plt.annotate(row['name'], (row['market_value_in_eur'], row['Predicted_Value']), fontsize=6, color='black')\n",
    "\n",
    "# Set formatter for x-axis and y-axis\n",
    "def millions_formatter(x, pos):\n",
    "    return f'{x / 1000000:.0f}M'\n",
    "\n",
    "# Identify the 1% most valuable players\n",
    "top_1_percent = z.nlargest(int(len(z) * 0.05), 'market_value_in_eur')\n",
    "top_1_percent = top_1_percent.sort_values(by='market_value_in_eur')\n",
    "lowest_value_player = top_1_percent.iloc[0]['market_value_in_eur']\n",
    "# Add vertical line for the 1% most valuable players\n",
    "print(lowest_value_player)\n",
    "plt.axvline(x=lowest_value_player, color='gray', linestyle='--', label='5% Most Valuable Players', alpha=0.5)\n",
    "    \n",
    "formatter = FuncFormatter(millions_formatter)\n",
    "plt.gca().xaxis.set_major_formatter(formatter)\n",
    "plt.gca().yaxis.set_major_formatter(formatter)\n",
    "\n",
    "plt.grid(alpha=0.2, linestyle='--', zorder=1)\n",
    "plt.legend()\n",
    "plt.tight_layout()\n",
    "plt.show()\n"
   ]
  },
  {
   "cell_type": "code",
   "execution_count": null,
   "metadata": {},
   "outputs": [],
   "source": [
    "XGBRegressor.plot_importance(model)"
   ]
  }
 ],
 "metadata": {
  "kernelspec": {
   "display_name": ".venv",
   "language": "python",
   "name": "python3"
  },
  "language_info": {
   "codemirror_mode": {
    "name": "ipython",
    "version": 3
   },
   "file_extension": ".py",
   "mimetype": "text/x-python",
   "name": "python",
   "nbconvert_exporter": "python",
   "pygments_lexer": "ipython3",
   "version": "3.11.9"
  }
 },
 "nbformat": 4,
 "nbformat_minor": 2
}
