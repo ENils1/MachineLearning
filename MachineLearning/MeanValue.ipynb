{
 "cells": [
  {
   "cell_type": "markdown",
   "metadata": {},
   "source": [
    "# Mean Value\n"
   ]
  },
  {
   "cell_type": "markdown",
   "metadata": {},
   "source": [
    "### Initialization"
   ]
  },
  {
   "cell_type": "code",
   "execution_count": 1,
   "metadata": {},
   "outputs": [
    {
     "data": {
      "text/html": [
       "<div>\n",
       "<style scoped>\n",
       "    .dataframe tbody tr th:only-of-type {\n",
       "        vertical-align: middle;\n",
       "    }\n",
       "\n",
       "    .dataframe tbody tr th {\n",
       "        vertical-align: top;\n",
       "    }\n",
       "\n",
       "    .dataframe thead th {\n",
       "        text-align: right;\n",
       "    }\n",
       "</style>\n",
       "<table border=\"1\" class=\"dataframe\">\n",
       "  <thead>\n",
       "    <tr style=\"text-align: right;\">\n",
       "      <th></th>\n",
       "      <th>name</th>\n",
       "      <th>height_in_cm</th>\n",
       "      <th>year</th>\n",
       "      <th>goals_for</th>\n",
       "      <th>goals_against</th>\n",
       "      <th>goals</th>\n",
       "      <th>assists</th>\n",
       "      <th>red_cards</th>\n",
       "      <th>yellow_cards</th>\n",
       "      <th>minutes_played</th>\n",
       "      <th>market_value_in_eur</th>\n",
       "      <th>age_at_evaluation</th>\n",
       "      <th>log_market_value_base10</th>\n",
       "      <th>country_of_citizenship_encoded</th>\n",
       "      <th>sub_position_encoded</th>\n",
       "      <th>club_id_encoded</th>\n",
       "      <th>domestic_competition_id_encoded</th>\n",
       "    </tr>\n",
       "  </thead>\n",
       "  <tbody>\n",
       "    <tr>\n",
       "      <th>0</th>\n",
       "      <td>Miroslav Klose</td>\n",
       "      <td>184.0</td>\n",
       "      <td>2012.75</td>\n",
       "      <td>31.0</td>\n",
       "      <td>14.0</td>\n",
       "      <td>11.0</td>\n",
       "      <td>1.0</td>\n",
       "      <td>0.0</td>\n",
       "      <td>6.0</td>\n",
       "      <td>1483.0</td>\n",
       "      <td>4000000.0</td>\n",
       "      <td>35</td>\n",
       "      <td>6.60206</td>\n",
       "      <td>7.191504e+06</td>\n",
       "      <td>5.331868e+06</td>\n",
       "      <td>7.836111e+06</td>\n",
       "      <td>7.182738e+06</td>\n",
       "    </tr>\n",
       "    <tr>\n",
       "      <th>1</th>\n",
       "      <td>Miroslav Klose</td>\n",
       "      <td>184.0</td>\n",
       "      <td>2013.25</td>\n",
       "      <td>24.0</td>\n",
       "      <td>15.0</td>\n",
       "      <td>5.0</td>\n",
       "      <td>2.0</td>\n",
       "      <td>0.0</td>\n",
       "      <td>2.0</td>\n",
       "      <td>1102.0</td>\n",
       "      <td>2000000.0</td>\n",
       "      <td>35</td>\n",
       "      <td>6.30103</td>\n",
       "      <td>7.191504e+06</td>\n",
       "      <td>5.331868e+06</td>\n",
       "      <td>7.836111e+06</td>\n",
       "      <td>7.182738e+06</td>\n",
       "    </tr>\n",
       "    <tr>\n",
       "      <th>2</th>\n",
       "      <td>Miroslav Klose</td>\n",
       "      <td>184.0</td>\n",
       "      <td>2013.75</td>\n",
       "      <td>14.0</td>\n",
       "      <td>21.0</td>\n",
       "      <td>4.0</td>\n",
       "      <td>2.0</td>\n",
       "      <td>0.0</td>\n",
       "      <td>1.0</td>\n",
       "      <td>950.0</td>\n",
       "      <td>1000000.0</td>\n",
       "      <td>36</td>\n",
       "      <td>6.00000</td>\n",
       "      <td>7.191504e+06</td>\n",
       "      <td>5.331868e+06</td>\n",
       "      <td>7.836111e+06</td>\n",
       "      <td>7.182738e+06</td>\n",
       "    </tr>\n",
       "    <tr>\n",
       "      <th>3</th>\n",
       "      <td>Miroslav Klose</td>\n",
       "      <td>184.0</td>\n",
       "      <td>2014.25</td>\n",
       "      <td>24.0</td>\n",
       "      <td>22.0</td>\n",
       "      <td>4.0</td>\n",
       "      <td>3.0</td>\n",
       "      <td>0.0</td>\n",
       "      <td>1.0</td>\n",
       "      <td>1270.0</td>\n",
       "      <td>1000000.0</td>\n",
       "      <td>36</td>\n",
       "      <td>6.00000</td>\n",
       "      <td>7.191504e+06</td>\n",
       "      <td>5.331868e+06</td>\n",
       "      <td>7.836111e+06</td>\n",
       "      <td>7.182738e+06</td>\n",
       "    </tr>\n",
       "    <tr>\n",
       "      <th>4</th>\n",
       "      <td>Miroslav Klose</td>\n",
       "      <td>184.0</td>\n",
       "      <td>2014.75</td>\n",
       "      <td>31.0</td>\n",
       "      <td>18.0</td>\n",
       "      <td>4.0</td>\n",
       "      <td>3.0</td>\n",
       "      <td>0.0</td>\n",
       "      <td>2.0</td>\n",
       "      <td>496.0</td>\n",
       "      <td>1000000.0</td>\n",
       "      <td>37</td>\n",
       "      <td>6.00000</td>\n",
       "      <td>7.191504e+06</td>\n",
       "      <td>5.331868e+06</td>\n",
       "      <td>7.836111e+06</td>\n",
       "      <td>7.182738e+06</td>\n",
       "    </tr>\n",
       "  </tbody>\n",
       "</table>\n",
       "</div>"
      ],
      "text/plain": [
       "             name  height_in_cm     year  goals_for  goals_against  goals  \\\n",
       "0  Miroslav Klose         184.0  2012.75       31.0           14.0   11.0   \n",
       "1  Miroslav Klose         184.0  2013.25       24.0           15.0    5.0   \n",
       "2  Miroslav Klose         184.0  2013.75       14.0           21.0    4.0   \n",
       "3  Miroslav Klose         184.0  2014.25       24.0           22.0    4.0   \n",
       "4  Miroslav Klose         184.0  2014.75       31.0           18.0    4.0   \n",
       "\n",
       "   assists  red_cards  yellow_cards  minutes_played  market_value_in_eur  \\\n",
       "0      1.0        0.0           6.0          1483.0            4000000.0   \n",
       "1      2.0        0.0           2.0          1102.0            2000000.0   \n",
       "2      2.0        0.0           1.0           950.0            1000000.0   \n",
       "3      3.0        0.0           1.0          1270.0            1000000.0   \n",
       "4      3.0        0.0           2.0           496.0            1000000.0   \n",
       "\n",
       "   age_at_evaluation  log_market_value_base10  country_of_citizenship_encoded  \\\n",
       "0                 35                  6.60206                    7.191504e+06   \n",
       "1                 35                  6.30103                    7.191504e+06   \n",
       "2                 36                  6.00000                    7.191504e+06   \n",
       "3                 36                  6.00000                    7.191504e+06   \n",
       "4                 37                  6.00000                    7.191504e+06   \n",
       "\n",
       "   sub_position_encoded  club_id_encoded  domestic_competition_id_encoded  \n",
       "0          5.331868e+06     7.836111e+06                     7.182738e+06  \n",
       "1          5.331868e+06     7.836111e+06                     7.182738e+06  \n",
       "2          5.331868e+06     7.836111e+06                     7.182738e+06  \n",
       "3          5.331868e+06     7.836111e+06                     7.182738e+06  \n",
       "4          5.331868e+06     7.836111e+06                     7.182738e+06  "
      ]
     },
     "execution_count": 1,
     "metadata": {},
     "output_type": "execute_result"
    }
   ],
   "source": [
    "import numpy as np\n",
    "import pandas as pd\n",
    "from xgboost import XGBRegressor\n",
    "from sklearn.metrics import mean_squared_error\n",
    "from sklearn.model_selection import train_test_split\n",
    "\n",
    "filename = \"encoded_data_04_13.csv\"\n",
    "df = pd.read_csv(f\"../DataSets/EncodedData/{filename}\", sep=\",\", encoding=\"UTF-8\")\n",
    "df.head()"
   ]
  },
  {
   "cell_type": "markdown",
   "metadata": {},
   "source": [
    "### Training and Prediction"
   ]
  },
  {
   "cell_type": "code",
   "execution_count": 8,
   "metadata": {},
   "outputs": [
    {
     "data": {
      "text/plain": [
       "6.17473199666468"
      ]
     },
     "execution_count": 8,
     "metadata": {},
     "output_type": "execute_result"
    }
   ],
   "source": [
    "X = df.drop(columns=['log_market_value_base10', 'name', 'market_value_in_eur'])\n",
    "y = df['log_market_value_base10']\n",
    "\n",
    "X_train, X_test, y_train, y_test = train_test_split(X, y, test_size=0.10, random_state=42)\n",
    "\n",
    "y_pred = np.mean(y_train)\n",
    "y_pred"
   ]
  },
  {
   "cell_type": "code",
   "execution_count": 3,
   "metadata": {},
   "outputs": [
    {
     "name": "stdout",
     "output_type": "stream",
     "text": [
      "(12080, 14)\n"
     ]
    }
   ],
   "source": [
    "print(X_test.shape)"
   ]
  },
  {
   "cell_type": "code",
   "execution_count": 4,
   "metadata": {},
   "outputs": [
    {
     "name": "stdout",
     "output_type": "stream",
     "text": [
      "(12080, 17)\n"
     ]
    },
    {
     "data": {
      "text/html": [
       "<div>\n",
       "<style scoped>\n",
       "    .dataframe tbody tr th:only-of-type {\n",
       "        vertical-align: middle;\n",
       "    }\n",
       "\n",
       "    .dataframe tbody tr th {\n",
       "        vertical-align: top;\n",
       "    }\n",
       "\n",
       "    .dataframe thead th {\n",
       "        text-align: right;\n",
       "    }\n",
       "</style>\n",
       "<table border=\"1\" class=\"dataframe\">\n",
       "  <thead>\n",
       "    <tr style=\"text-align: right;\">\n",
       "      <th></th>\n",
       "      <th>name</th>\n",
       "      <th>year</th>\n",
       "      <th>market_value_in_eur</th>\n",
       "      <th>Predicted_Value</th>\n",
       "      <th>log_market_value_base10</th>\n",
       "      <th>Predicted_Value_log</th>\n",
       "    </tr>\n",
       "  </thead>\n",
       "  <tbody>\n",
       "    <tr>\n",
       "      <th>98661</th>\n",
       "      <td>Jerdy Schouten</td>\n",
       "      <td>2020.75</td>\n",
       "      <td>7000000.0</td>\n",
       "      <td>1.495313e+06</td>\n",
       "      <td>6.845098</td>\n",
       "      <td>6.174732</td>\n",
       "    </tr>\n",
       "    <tr>\n",
       "      <th>54536</th>\n",
       "      <td>Matz Sels</td>\n",
       "      <td>2020.25</td>\n",
       "      <td>6500000.0</td>\n",
       "      <td>1.495313e+06</td>\n",
       "      <td>6.812913</td>\n",
       "      <td>6.174732</td>\n",
       "    </tr>\n",
       "    <tr>\n",
       "      <th>34669</th>\n",
       "      <td>Maurício</td>\n",
       "      <td>2017.25</td>\n",
       "      <td>1500000.0</td>\n",
       "      <td>1.495313e+06</td>\n",
       "      <td>6.176091</td>\n",
       "      <td>6.174732</td>\n",
       "    </tr>\n",
       "    <tr>\n",
       "      <th>46863</th>\n",
       "      <td>Nicolai Jörgensen</td>\n",
       "      <td>2017.75</td>\n",
       "      <td>15000000.0</td>\n",
       "      <td>1.495313e+06</td>\n",
       "      <td>7.176091</td>\n",
       "      <td>6.174732</td>\n",
       "    </tr>\n",
       "    <tr>\n",
       "      <th>56590</th>\n",
       "      <td>Nikola Mirkovic</td>\n",
       "      <td>2017.75</td>\n",
       "      <td>350000.0</td>\n",
       "      <td>1.495313e+06</td>\n",
       "      <td>5.544068</td>\n",
       "      <td>6.174732</td>\n",
       "    </tr>\n",
       "    <tr>\n",
       "      <th>...</th>\n",
       "      <td>...</td>\n",
       "      <td>...</td>\n",
       "      <td>...</td>\n",
       "      <td>...</td>\n",
       "      <td>...</td>\n",
       "      <td>...</td>\n",
       "    </tr>\n",
       "    <tr>\n",
       "      <th>66374</th>\n",
       "      <td>Stefan Thesker</td>\n",
       "      <td>2016.75</td>\n",
       "      <td>750000.0</td>\n",
       "      <td>1.495313e+06</td>\n",
       "      <td>5.875061</td>\n",
       "      <td>6.174732</td>\n",
       "    </tr>\n",
       "    <tr>\n",
       "      <th>74472</th>\n",
       "      <td>Mickaël Malsa</td>\n",
       "      <td>2020.75</td>\n",
       "      <td>2800000.0</td>\n",
       "      <td>1.495313e+06</td>\n",
       "      <td>6.447158</td>\n",
       "      <td>6.174732</td>\n",
       "    </tr>\n",
       "    <tr>\n",
       "      <th>99705</th>\n",
       "      <td>Sory Kaba</td>\n",
       "      <td>2019.75</td>\n",
       "      <td>2000000.0</td>\n",
       "      <td>1.495313e+06</td>\n",
       "      <td>6.301030</td>\n",
       "      <td>6.174732</td>\n",
       "    </tr>\n",
       "    <tr>\n",
       "      <th>63717</th>\n",
       "      <td>Raphaël Varane</td>\n",
       "      <td>2022.25</td>\n",
       "      <td>48000000.0</td>\n",
       "      <td>1.495313e+06</td>\n",
       "      <td>7.681241</td>\n",
       "      <td>6.174732</td>\n",
       "    </tr>\n",
       "    <tr>\n",
       "      <th>13619</th>\n",
       "      <td>Goran Karanovic</td>\n",
       "      <td>2015.75</td>\n",
       "      <td>800000.0</td>\n",
       "      <td>1.495313e+06</td>\n",
       "      <td>5.903090</td>\n",
       "      <td>6.174732</td>\n",
       "    </tr>\n",
       "  </tbody>\n",
       "</table>\n",
       "<p>12080 rows × 6 columns</p>\n",
       "</div>"
      ],
      "text/plain": [
       "                    name     year  market_value_in_eur  Predicted_Value  \\\n",
       "98661     Jerdy Schouten  2020.75            7000000.0     1.495313e+06   \n",
       "54536          Matz Sels  2020.25            6500000.0     1.495313e+06   \n",
       "34669           Maurício  2017.25            1500000.0     1.495313e+06   \n",
       "46863  Nicolai Jörgensen  2017.75           15000000.0     1.495313e+06   \n",
       "56590    Nikola Mirkovic  2017.75             350000.0     1.495313e+06   \n",
       "...                  ...      ...                  ...              ...   \n",
       "66374     Stefan Thesker  2016.75             750000.0     1.495313e+06   \n",
       "74472      Mickaël Malsa  2020.75            2800000.0     1.495313e+06   \n",
       "99705          Sory Kaba  2019.75            2000000.0     1.495313e+06   \n",
       "63717     Raphaël Varane  2022.25           48000000.0     1.495313e+06   \n",
       "13619    Goran Karanovic  2015.75             800000.0     1.495313e+06   \n",
       "\n",
       "       log_market_value_base10  Predicted_Value_log  \n",
       "98661                 6.845098             6.174732  \n",
       "54536                 6.812913             6.174732  \n",
       "34669                 6.176091             6.174732  \n",
       "46863                 7.176091             6.174732  \n",
       "56590                 5.544068             6.174732  \n",
       "...                        ...                  ...  \n",
       "66374                 5.875061             6.174732  \n",
       "74472                 6.447158             6.174732  \n",
       "99705                 6.301030             6.174732  \n",
       "63717                 7.681241             6.174732  \n",
       "13619                 5.903090             6.174732  \n",
       "\n",
       "[12080 rows x 6 columns]"
      ]
     },
     "execution_count": 4,
     "metadata": {},
     "output_type": "execute_result"
    }
   ],
   "source": [
    "\n",
    "z = pd.merge(X_test, df, on=['height_in_cm','year','goals_for','goals_against','goals','assists','red_cards','yellow_cards','minutes_played','age_at_evaluation','country_of_citizenship_encoded','sub_position_encoded','club_id_encoded','domestic_competition_id_encoded'])\n",
    "print(z.shape)\n",
    "z.set_index(X_test.index, inplace=True)\n",
    "z['Predicted_Value_log'] = y_pred\n",
    "z['Predicted_Value'] = np.power(10, y_pred)\n",
    "\n",
    "results = z[['name', 'year', 'market_value_in_eur', 'Predicted_Value', 'log_market_value_base10', 'Predicted_Value_log']]\n",
    "results.sort_values(by='Predicted_Value', ascending=False)\n",
    "\n"
   ]
  },
  {
   "cell_type": "code",
   "execution_count": 5,
   "metadata": {},
   "outputs": [
    {
     "name": "stdout",
     "output_type": "stream",
     "text": [
      "                name     year  market_value_in_eur  Predicted_Value  \\\n",
      "97626  Kylian Mbappé  2018.25          150000000.0     1.495313e+06   \n",
      "\n",
      "       log_market_value_base10  Predicted_Value_log  \n",
      "97626                 8.176091             6.174732  \n"
     ]
    }
   ],
   "source": [
    "carlo_holse_rows = results[results['name'] == 'Kylian Mbappé']\n",
    "\n",
    "print(carlo_holse_rows)"
   ]
  },
  {
   "cell_type": "markdown",
   "metadata": {},
   "source": [
    "### Model Performance"
   ]
  },
  {
   "cell_type": "code",
   "execution_count": 9,
   "metadata": {},
   "outputs": [
    {
     "name": "stdout",
     "output_type": "stream",
     "text": [
      "Mean Squared Error: 117928616874184.98\n",
      "Mean squared Percentage Error: 2505165585.7382956%\n",
      "Mean Absolute Percentage Error:  2.109923815958483\n"
     ]
    }
   ],
   "source": [
    "# Reverse normalization for actual values\n",
    "y_test_original = results[\"market_value_in_eur\"]\n",
    "\n",
    "# Reverse normalization for predicted values\n",
    "y_pred_original = results[\"Predicted_Value\"]\n",
    "\n",
    "# Calculate the mean squared error\n",
    "mse = mean_squared_error(y_test_original, y_pred_original)\n",
    "print(f'Mean Squared Error: {mse}')\n",
    "\n",
    "# Calculate the mean squared percentage error\n",
    "percentage_error = (mse / y_test_original.mean()) * 100\n",
    "print(f'Mean squared Percentage Error: {percentage_error}%')\n",
    "\n",
    "\n",
    "from sklearn.metrics import mean_absolute_percentage_error\n",
    "result = mean_absolute_percentage_error(y_pred=y_pred_original, y_true=y_test_original)\n",
    "print(\"Mean Absolute Percentage Error: \", result)"
   ]
  },
  {
   "cell_type": "code",
   "execution_count": 10,
   "metadata": {},
   "outputs": [
    {
     "name": "stdout",
     "output_type": "stream",
     "text": [
      "Lionel Messi\n",
      "Mohamed Salah\n",
      "Jude Bellingham\n",
      "Raheem Sterling\n",
      "Neymar\n",
      "Eden Hazard\n",
      "Erling Haaland\n",
      "Harry Kane\n",
      "Kylian Mbappé\n",
      "Jadon Sancho\n",
      "Antoine Griezmann\n"
     ]
    },
    {
     "data": {
      "image/png": "[encoded data removed]",
      "text/plain": [
       "<Figure size 640x480 with 1 Axes>"
      ]
     },
     "metadata": {},
     "output_type": "display_data"
    }
   ],
   "source": [
    "import matplotlib.pyplot as plt\n",
    "\n",
    "from matplotlib.ticker import FuncFormatter\n",
    "# Scatter plot\n",
    "plt.scatter(y_test_original, y_pred_original, s=20, color='blue', alpha=0.5)  # Set dot size to 20, blue color, and transparency to 0.5\n",
    "plt.xlabel(\"Real value\")\n",
    "plt.ylabel(\"Predicted value\")\n",
    "plt.title(\"Value vs Predicted value\")\n",
    "\n",
    "# Add diagonal line\n",
    "plt.plot([min(y_test_original), max(y_test_original)], [min(y_test_original), max(y_test_original)], color='red')\n",
    "plt.text(min(y_test_original), max(y_pred_original), \"Over evaluation\", fontsize=10, color='green', verticalalignment='top', horizontalalignment='left')\n",
    "plt.text(max(y_test_original), min(y_pred_original), \"Under evaluation\", fontsize=10, color='orange', verticalalignment='bottom', horizontalalignment='right')\n",
    "\n",
    "# Add player names for values over 50 million\n",
    "for index, row in z.iterrows():\n",
    "    if row['market_value_in_eur'] > 110000000 or row['Predicted_Value'] > 110000000:  # Assuming the value is in EUR\n",
    "        print(row['name'])\n",
    "        plt.annotate(row['name'], (row['market_value_in_eur'], row['Predicted_Value']), fontsize=6, color='black')\n",
    "\n",
    "# Initialize lists for names and coordinates\n",
    "#names = []\n",
    "#coords = []\n",
    "\n",
    "# Add player names for values over 100 million to the lists\n",
    "#for index, row in z.iterrows():\n",
    "#    if row['market_value_in_eur'] > 120000000:  # Assuming the value is in EUR\n",
    "#        names.append(row['name'])\n",
    "##        coords.append((row['market_value_in_eur'], row['Predicted_Value']))\n",
    "\n",
    "# Annotate names as a text box with arrows\n",
    "#for name, coord in zip(names, coords):\n",
    "#    plt.annotate(name, xy=coord, xytext=(0, 0), textcoords='offset points', arrowprops=dict(facecolor='black', arrowstyle='->'), fontsize=6)\n",
    "\n",
    "# Set formatter for x-axis\n",
    "def millions_formatter(x, pos):\n",
    "    return f'{x / 1000000:.0f}M'\n",
    "\n",
    "formatter = FuncFormatter(millions_formatter)\n",
    "plt.gca().xaxis.set_major_formatter(formatter)\n",
    "plt.gca().yaxis.set_major_formatter(formatter)\n",
    "plt.grid(alpha=0.2, zorder=1)\n",
    "plt.show()\n"
   ]
  },
  {
   "cell_type": "code",
   "execution_count": 11,
   "metadata": {},
   "outputs": [
    {
     "ename": "ValueError",
     "evalue": "x and y must be the same size",
     "output_type": "error",
     "traceback": [
      "\u001b[1;31m---------------------------------------------------------------------------\u001b[0m",
      "\u001b[1;31mValueError\u001b[0m                                Traceback (most recent call last)",
      "Cell \u001b[1;32mIn[11], line 4\u001b[0m\n\u001b[0;32m      1\u001b[0m \u001b[38;5;28;01mimport\u001b[39;00m \u001b[38;5;21;01mmatplotlib\u001b[39;00m\u001b[38;5;21;01m.\u001b[39;00m\u001b[38;5;21;01mpyplot\u001b[39;00m \u001b[38;5;28;01mas\u001b[39;00m \u001b[38;5;21;01mplt\u001b[39;00m\n\u001b[0;32m      3\u001b[0m \u001b[38;5;66;03m# Scatter plot\u001b[39;00m\n\u001b[1;32m----> 4\u001b[0m \u001b[43mplt\u001b[49m\u001b[38;5;241;43m.\u001b[39;49m\u001b[43mscatter\u001b[49m\u001b[43m(\u001b[49m\u001b[43my_test\u001b[49m\u001b[43m,\u001b[49m\u001b[43m \u001b[49m\u001b[43my_pred\u001b[49m\u001b[43m,\u001b[49m\u001b[43m \u001b[49m\u001b[43ms\u001b[49m\u001b[38;5;241;43m=\u001b[39;49m\u001b[38;5;241;43m20\u001b[39;49m\u001b[43m,\u001b[49m\u001b[43m \u001b[49m\u001b[43mcolor\u001b[49m\u001b[38;5;241;43m=\u001b[39;49m\u001b[38;5;124;43m'\u001b[39;49m\u001b[38;5;124;43mblue\u001b[39;49m\u001b[38;5;124;43m'\u001b[39;49m\u001b[43m,\u001b[49m\u001b[43m \u001b[49m\u001b[43malpha\u001b[49m\u001b[38;5;241;43m=\u001b[39;49m\u001b[38;5;241;43m0.5\u001b[39;49m\u001b[43m)\u001b[49m  \u001b[38;5;66;03m# Set dot size to 20, blue color, and transparency to 0.5\u001b[39;00m\n\u001b[0;32m      5\u001b[0m plt\u001b[38;5;241m.\u001b[39mxlabel(\u001b[38;5;124m\"\u001b[39m\u001b[38;5;124mReal value\u001b[39m\u001b[38;5;124m\"\u001b[39m)\n\u001b[0;32m      6\u001b[0m plt\u001b[38;5;241m.\u001b[39mylabel(\u001b[38;5;124m\"\u001b[39m\u001b[38;5;124mPredicted value\u001b[39m\u001b[38;5;124m\"\u001b[39m)\n",
      "File \u001b[1;32mc:\\Users\\eirik\\Documents\\.Skole\\MachineLearning\\MachineLearning\\.venv\\Lib\\site-packages\\matplotlib\\pyplot.py:3699\u001b[0m, in \u001b[0;36mscatter\u001b[1;34m(x, y, s, c, marker, cmap, norm, vmin, vmax, alpha, linewidths, edgecolors, plotnonfinite, data, **kwargs)\u001b[0m\n\u001b[0;32m   3680\u001b[0m \u001b[38;5;129m@_copy_docstring_and_deprecators\u001b[39m(Axes\u001b[38;5;241m.\u001b[39mscatter)\n\u001b[0;32m   3681\u001b[0m \u001b[38;5;28;01mdef\u001b[39;00m \u001b[38;5;21mscatter\u001b[39m(\n\u001b[0;32m   3682\u001b[0m     x: \u001b[38;5;28mfloat\u001b[39m \u001b[38;5;241m|\u001b[39m ArrayLike,\n\u001b[1;32m   (...)\u001b[0m\n\u001b[0;32m   3697\u001b[0m     \u001b[38;5;241m*\u001b[39m\u001b[38;5;241m*\u001b[39mkwargs,\n\u001b[0;32m   3698\u001b[0m ) \u001b[38;5;241m-\u001b[39m\u001b[38;5;241m>\u001b[39m PathCollection:\n\u001b[1;32m-> 3699\u001b[0m     __ret \u001b[38;5;241m=\u001b[39m \u001b[43mgca\u001b[49m\u001b[43m(\u001b[49m\u001b[43m)\u001b[49m\u001b[38;5;241;43m.\u001b[39;49m\u001b[43mscatter\u001b[49m\u001b[43m(\u001b[49m\n\u001b[0;32m   3700\u001b[0m \u001b[43m        \u001b[49m\u001b[43mx\u001b[49m\u001b[43m,\u001b[49m\n\u001b[0;32m   3701\u001b[0m \u001b[43m        \u001b[49m\u001b[43my\u001b[49m\u001b[43m,\u001b[49m\n\u001b[0;32m   3702\u001b[0m \u001b[43m        \u001b[49m\u001b[43ms\u001b[49m\u001b[38;5;241;43m=\u001b[39;49m\u001b[43ms\u001b[49m\u001b[43m,\u001b[49m\n\u001b[0;32m   3703\u001b[0m \u001b[43m        \u001b[49m\u001b[43mc\u001b[49m\u001b[38;5;241;43m=\u001b[39;49m\u001b[43mc\u001b[49m\u001b[43m,\u001b[49m\n\u001b[0;32m   3704\u001b[0m \u001b[43m        \u001b[49m\u001b[43mmarker\u001b[49m\u001b[38;5;241;43m=\u001b[39;49m\u001b[43mmarker\u001b[49m\u001b[43m,\u001b[49m\n\u001b[0;32m   3705\u001b[0m \u001b[43m        \u001b[49m\u001b[43mcmap\u001b[49m\u001b[38;5;241;43m=\u001b[39;49m\u001b[43mcmap\u001b[49m\u001b[43m,\u001b[49m\n\u001b[0;32m   3706\u001b[0m \u001b[43m        \u001b[49m\u001b[43mnorm\u001b[49m\u001b[38;5;241;43m=\u001b[39;49m\u001b[43mnorm\u001b[49m\u001b[43m,\u001b[49m\n\u001b[0;32m   3707\u001b[0m \u001b[43m        \u001b[49m\u001b[43mvmin\u001b[49m\u001b[38;5;241;43m=\u001b[39;49m\u001b[43mvmin\u001b[49m\u001b[43m,\u001b[49m\n\u001b[0;32m   3708\u001b[0m \u001b[43m        \u001b[49m\u001b[43mvmax\u001b[49m\u001b[38;5;241;43m=\u001b[39;49m\u001b[43mvmax\u001b[49m\u001b[43m,\u001b[49m\n\u001b[0;32m   3709\u001b[0m \u001b[43m        \u001b[49m\u001b[43malpha\u001b[49m\u001b[38;5;241;43m=\u001b[39;49m\u001b[43malpha\u001b[49m\u001b[43m,\u001b[49m\n\u001b[0;32m   3710\u001b[0m \u001b[43m        \u001b[49m\u001b[43mlinewidths\u001b[49m\u001b[38;5;241;43m=\u001b[39;49m\u001b[43mlinewidths\u001b[49m\u001b[43m,\u001b[49m\n\u001b[0;32m   3711\u001b[0m \u001b[43m        \u001b[49m\u001b[43medgecolors\u001b[49m\u001b[38;5;241;43m=\u001b[39;49m\u001b[43medgecolors\u001b[49m\u001b[43m,\u001b[49m\n\u001b[0;32m   3712\u001b[0m \u001b[43m        \u001b[49m\u001b[43mplotnonfinite\u001b[49m\u001b[38;5;241;43m=\u001b[39;49m\u001b[43mplotnonfinite\u001b[49m\u001b[43m,\u001b[49m\n\u001b[0;32m   3713\u001b[0m \u001b[43m        \u001b[49m\u001b[38;5;241;43m*\u001b[39;49m\u001b[38;5;241;43m*\u001b[39;49m\u001b[43m(\u001b[49m\u001b[43m{\u001b[49m\u001b[38;5;124;43m\"\u001b[39;49m\u001b[38;5;124;43mdata\u001b[39;49m\u001b[38;5;124;43m\"\u001b[39;49m\u001b[43m:\u001b[49m\u001b[43m \u001b[49m\u001b[43mdata\u001b[49m\u001b[43m}\u001b[49m\u001b[43m \u001b[49m\u001b[38;5;28;43;01mif\u001b[39;49;00m\u001b[43m \u001b[49m\u001b[43mdata\u001b[49m\u001b[43m \u001b[49m\u001b[38;5;129;43;01mis\u001b[39;49;00m\u001b[43m \u001b[49m\u001b[38;5;129;43;01mnot\u001b[39;49;00m\u001b[43m \u001b[49m\u001b[38;5;28;43;01mNone\u001b[39;49;00m\u001b[43m \u001b[49m\u001b[38;5;28;43;01melse\u001b[39;49;00m\u001b[43m \u001b[49m\u001b[43m{\u001b[49m\u001b[43m}\u001b[49m\u001b[43m)\u001b[49m\u001b[43m,\u001b[49m\n\u001b[0;32m   3714\u001b[0m \u001b[43m        \u001b[49m\u001b[38;5;241;43m*\u001b[39;49m\u001b[38;5;241;43m*\u001b[39;49m\u001b[43mkwargs\u001b[49m\u001b[43m,\u001b[49m\n\u001b[0;32m   3715\u001b[0m \u001b[43m    \u001b[49m\u001b[43m)\u001b[49m\n\u001b[0;32m   3716\u001b[0m     sci(__ret)\n\u001b[0;32m   3717\u001b[0m     \u001b[38;5;28;01mreturn\u001b[39;00m __ret\n",
      "File \u001b[1;32mc:\\Users\\eirik\\Documents\\.Skole\\MachineLearning\\MachineLearning\\.venv\\Lib\\site-packages\\matplotlib\\__init__.py:1478\u001b[0m, in \u001b[0;36m_preprocess_data.<locals>.inner\u001b[1;34m(ax, data, *args, **kwargs)\u001b[0m\n\u001b[0;32m   1475\u001b[0m \u001b[38;5;129m@functools\u001b[39m\u001b[38;5;241m.\u001b[39mwraps(func)\n\u001b[0;32m   1476\u001b[0m \u001b[38;5;28;01mdef\u001b[39;00m \u001b[38;5;21minner\u001b[39m(ax, \u001b[38;5;241m*\u001b[39margs, data\u001b[38;5;241m=\u001b[39m\u001b[38;5;28;01mNone\u001b[39;00m, \u001b[38;5;241m*\u001b[39m\u001b[38;5;241m*\u001b[39mkwargs):\n\u001b[0;32m   1477\u001b[0m     \u001b[38;5;28;01mif\u001b[39;00m data \u001b[38;5;129;01mis\u001b[39;00m \u001b[38;5;28;01mNone\u001b[39;00m:\n\u001b[1;32m-> 1478\u001b[0m         \u001b[38;5;28;01mreturn\u001b[39;00m \u001b[43mfunc\u001b[49m\u001b[43m(\u001b[49m\u001b[43max\u001b[49m\u001b[43m,\u001b[49m\u001b[43m \u001b[49m\u001b[38;5;241;43m*\u001b[39;49m\u001b[38;5;28;43mmap\u001b[39;49m\u001b[43m(\u001b[49m\u001b[43msanitize_sequence\u001b[49m\u001b[43m,\u001b[49m\u001b[43m \u001b[49m\u001b[43margs\u001b[49m\u001b[43m)\u001b[49m\u001b[43m,\u001b[49m\u001b[43m \u001b[49m\u001b[38;5;241;43m*\u001b[39;49m\u001b[38;5;241;43m*\u001b[39;49m\u001b[43mkwargs\u001b[49m\u001b[43m)\u001b[49m\n\u001b[0;32m   1480\u001b[0m     bound \u001b[38;5;241m=\u001b[39m new_sig\u001b[38;5;241m.\u001b[39mbind(ax, \u001b[38;5;241m*\u001b[39margs, \u001b[38;5;241m*\u001b[39m\u001b[38;5;241m*\u001b[39mkwargs)\n\u001b[0;32m   1481\u001b[0m     auto_label \u001b[38;5;241m=\u001b[39m (bound\u001b[38;5;241m.\u001b[39marguments\u001b[38;5;241m.\u001b[39mget(label_namer)\n\u001b[0;32m   1482\u001b[0m                   \u001b[38;5;129;01mor\u001b[39;00m bound\u001b[38;5;241m.\u001b[39mkwargs\u001b[38;5;241m.\u001b[39mget(label_namer))\n",
      "File \u001b[1;32mc:\\Users\\eirik\\Documents\\.Skole\\MachineLearning\\MachineLearning\\.venv\\Lib\\site-packages\\matplotlib\\axes\\_axes.py:4655\u001b[0m, in \u001b[0;36mAxes.scatter\u001b[1;34m(self, x, y, s, c, marker, cmap, norm, vmin, vmax, alpha, linewidths, edgecolors, plotnonfinite, **kwargs)\u001b[0m\n\u001b[0;32m   4653\u001b[0m y \u001b[38;5;241m=\u001b[39m np\u001b[38;5;241m.\u001b[39mma\u001b[38;5;241m.\u001b[39mravel(y)\n\u001b[0;32m   4654\u001b[0m \u001b[38;5;28;01mif\u001b[39;00m x\u001b[38;5;241m.\u001b[39msize \u001b[38;5;241m!=\u001b[39m y\u001b[38;5;241m.\u001b[39msize:\n\u001b[1;32m-> 4655\u001b[0m     \u001b[38;5;28;01mraise\u001b[39;00m \u001b[38;5;167;01mValueError\u001b[39;00m(\u001b[38;5;124m\"\u001b[39m\u001b[38;5;124mx and y must be the same size\u001b[39m\u001b[38;5;124m\"\u001b[39m)\n\u001b[0;32m   4657\u001b[0m \u001b[38;5;28;01mif\u001b[39;00m s \u001b[38;5;129;01mis\u001b[39;00m \u001b[38;5;28;01mNone\u001b[39;00m:\n\u001b[0;32m   4658\u001b[0m     s \u001b[38;5;241m=\u001b[39m (\u001b[38;5;241m20\u001b[39m \u001b[38;5;28;01mif\u001b[39;00m mpl\u001b[38;5;241m.\u001b[39mrcParams[\u001b[38;5;124m'\u001b[39m\u001b[38;5;124m_internal.classic_mode\u001b[39m\u001b[38;5;124m'\u001b[39m] \u001b[38;5;28;01melse\u001b[39;00m\n\u001b[0;32m   4659\u001b[0m          mpl\u001b[38;5;241m.\u001b[39mrcParams[\u001b[38;5;124m'\u001b[39m\u001b[38;5;124mlines.markersize\u001b[39m\u001b[38;5;124m'\u001b[39m] \u001b[38;5;241m*\u001b[39m\u001b[38;5;241m*\u001b[39m \u001b[38;5;241m2.0\u001b[39m)\n",
      "\u001b[1;31mValueError\u001b[0m: x and y must be the same size"
     ]
    },
    {
     "data": {
      "image/png": "[encoded data removed]",
      "text/plain": [
       "<Figure size 640x480 with 1 Axes>"
      ]
     },
     "metadata": {},
     "output_type": "display_data"
    }
   ],
   "source": [
    "import matplotlib.pyplot as plt\n",
    "\n",
    "# Scatter plot\n",
    "plt.scatter(y_test, y_pred, s=20, color='blue', alpha=0.5)  # Set dot size to 20, blue color, and transparency to 0.5\n",
    "plt.xlabel(\"Real value\")\n",
    "plt.ylabel(\"Predicted value\")\n",
    "plt.title(\"Value vs Predicted value\")\n",
    "\n",
    "# Add diagonal line\n",
    "plt.plot([min(y_test), max(y_test)], [min(y_test), max(y_test)], color='red')\n",
    "plt.text(min(y_test), max(y_pred), \"Over evaluation\", fontsize=10, color='green', verticalalignment='top', horizontalalignment='left')\n",
    "plt.text(max(y_test), min(y_pred), \"Under evaluation\", fontsize=10, color='orange', verticalalignment='bottom', horizontalalignment='right')\n",
    "plt.grid(alpha=0.2, zorder=1)\n",
    "\n",
    "plt.show()\n"
   ]
  },
  {
   "cell_type": "code",
   "execution_count": null,
   "metadata": {},
   "outputs": [],
   "source": []
  }
 ],
 "metadata": {
  "kernelspec": {
   "display_name": ".venv",
   "language": "python",
   "name": "python3"
  },
  "language_info": {
   "codemirror_mode": {
    "name": "ipython",
    "version": 3
   },
   "file_extension": ".py",
   "mimetype": "text/x-python",
   "name": "python",
   "nbconvert_exporter": "python",
   "pygments_lexer": "ipython3",
   "version": "3.11.3"
  }
 },
 "nbformat": 4,
 "nbformat_minor": 2
}
