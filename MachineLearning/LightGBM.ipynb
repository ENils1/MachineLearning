{
 "cells": [
  {
   "cell_type": "markdown",
   "metadata": {},
   "source": [
    "# Light Gradient-Boosting Machine"
   ]
  },
  {
   "cell_type": "code",
   "execution_count": 1,
   "metadata": {},
   "outputs": [
    {
     "ename": "ModuleNotFoundError",
     "evalue": "No module named 'lightgbm'",
     "output_type": "error",
     "traceback": [
      "\u001b[1;31m---------------------------------------------------------------------------\u001b[0m",
      "\u001b[1;31mModuleNotFoundError\u001b[0m                       Traceback (most recent call last)",
      "Cell \u001b[1;32mIn[1], line 3\u001b[0m\n\u001b[0;32m      1\u001b[0m \u001b[38;5;28;01mimport\u001b[39;00m \u001b[38;5;21;01mnumpy\u001b[39;00m \u001b[38;5;28;01mas\u001b[39;00m \u001b[38;5;21;01mnp\u001b[39;00m\n\u001b[0;32m      2\u001b[0m \u001b[38;5;28;01mimport\u001b[39;00m \u001b[38;5;21;01mpandas\u001b[39;00m \u001b[38;5;28;01mas\u001b[39;00m \u001b[38;5;21;01mpd\u001b[39;00m\n\u001b[1;32m----> 3\u001b[0m \u001b[38;5;28;01mimport\u001b[39;00m \u001b[38;5;21;01mlightgbm\u001b[39;00m \u001b[38;5;28;01mas\u001b[39;00m \u001b[38;5;21;01mlgb\u001b[39;00m\n\u001b[0;32m      4\u001b[0m \u001b[38;5;28;01mfrom\u001b[39;00m \u001b[38;5;21;01msklearn\u001b[39;00m\u001b[38;5;21;01m.\u001b[39;00m\u001b[38;5;21;01mmetrics\u001b[39;00m \u001b[38;5;28;01mimport\u001b[39;00m mean_squared_error\n\u001b[0;32m      5\u001b[0m \u001b[38;5;28;01mfrom\u001b[39;00m \u001b[38;5;21;01msklearn\u001b[39;00m\u001b[38;5;21;01m.\u001b[39;00m\u001b[38;5;21;01mmodel_selection\u001b[39;00m \u001b[38;5;28;01mimport\u001b[39;00m train_test_split\n",
      "\u001b[1;31mModuleNotFoundError\u001b[0m: No module named 'lightgbm'"
     ]
    }
   ],
   "source": [
    "import numpy as np\n",
    "import pandas as pd\n",
    "import lightgbm as lgb\n",
    "from sklearn.metrics import mean_squared_error\n",
    "from sklearn.model_selection import train_test_split\n",
    "\n",
    "filename = \"encoded_data_03_12.csv\"\n",
    "df = pd.read_csv(f\"../DataSets/EncodedData/{filename}\", sep=\",\", encoding=\"UTF-8\")\n",
    "df.head()"
   ]
  },
  {
   "cell_type": "code",
   "execution_count": 5,
   "metadata": {},
   "outputs": [],
   "source": [
    "# Definerer parametrene for LightGBM-regresjonsmodellen\n",
    "params = {\n",
    "    'boosting_type': 'gbdt',    # Gradient Boosting Decision Tree\n",
    "    'objective': 'regression',  # Regresjon\n",
    "    'metric': 'l2',             # Målel2-feil (MSE)\n",
    "    'num_leaves': 31,           # Maksimalt antall blader i et tre\n",
    "    'learning_rate': 0.05,      # Læringshastighet\n",
    "    'bagging_fraction': 0.8,    # Andel av data brukt for bagging\n",
    "    'bagging_freq': 5,          # Frekvens for bagging\n",
    "    'feature_fraction': 0.8,    # Andel av funksjoner brukt for tre-bygging\n",
    "    'lambda_l1': 10             # L1-regulariseringsparameter\n",
    "}"
   ]
  },
  {
   "cell_type": "code",
   "execution_count": 7,
   "metadata": {},
   "outputs": [
    {
     "name": "stdout",
     "output_type": "stream",
     "text": [
      "[LightGBM] [Info] Auto-choosing row-wise multi-threading, the overhead of testing was 0.001676 seconds.\n",
      "You can set `force_row_wise=true` to remove the overhead.\n",
      "And if memory is not enough, you can set `force_col_wise=true`.\n",
      "[LightGBM] [Info] Total Bins 1014\n",
      "[LightGBM] [Info] Number of data points in the train set: 114291, number of used features: 14\n",
      "[LightGBM] [Info] Start training from score 6.205465\n",
      "Mean Squared Error: 36774136020702.21\n",
      "Mean squared Percentage Error: 733199713.0237198%\n",
      "Mean Percentage Error: 27.769660718795922%\n",
      "Accuracy: 37.53275266893321%\n"
     ]
    }
   ],
   "source": [
    "X = df.drop(columns=['log_market_value_base10'])\n",
    "y = df['log_market_value_base10']\n",
    "\n",
    "X_train, X_test, y_train, y_test = train_test_split(X, y, test_size=0.25, random_state=42)\n",
    "\n",
    "# Konverterer datasettene til LightGBM-format\n",
    "lgb_train = lgb.Dataset(X_train, y_train)\n",
    "lgb_test = lgb.Dataset(X_test, y_test, reference=lgb_train)\n",
    "\n",
    "# Trener LightGBM-regresjonsmodellen\n",
    "num_round = 100\n",
    "bst = lgb.train(params, lgb_train, num_round, valid_sets=[lgb_train, lgb_test])\n",
    "\n",
    "# Gjør prediksjoner på testdataene\n",
    "y_pred = bst.predict(X_test, num_iteration=bst.best_iteration)\n",
    "\n",
    "# Reverse normalization for actual values\n",
    "y_pred_original = np.power(10, y_pred)\n",
    "y_test_original = np.power(10, y_test)\n",
    "\n",
    "\n",
    "# Calculate the mean squared error\n",
    "mse = mean_squared_error(y_test_original, y_pred_original)\n",
    "print(f'Mean Squared Error: {mse}')\n",
    "\n",
    "# Calculate the mean squared percentage error\n",
    "percentage_error = (mse / y_test_original.mean()) * 100\n",
    "print(f'Mean squared Percentage Error: {percentage_error}%')\n",
    "\n",
    "# Initialize an empty list to store percentage errors\n",
    "percentage_errors = []\n",
    "\n",
    "# Calculate the percentage error for each prediction\n",
    "for i in range(len(y_pred_original)):\n",
    "    pred = y_pred_original[i]\n",
    "    actual = y_test_original.values[i]  # Convert to array for indexing\n",
    "    percentage_error = ((pred - actual) / actual) * 100\n",
    "    percentage_errors.append(percentage_error)\n",
    "\n",
    "# Calculate the mean percentage error\n",
    "mean_percentage_error = np.mean(percentage_errors)\n",
    "print(f'Mean Percentage Error: {mean_percentage_error}%')\n",
    "\n",
    "# Calculate Mean Absolute Percentage Error (MAPE)\n",
    "absolute_percentage_errors = np.abs((y_pred_original - y_test_original) / y_test_original) * 100\n",
    "mape = np.mean(absolute_percentage_errors)\n",
    "\n",
    "# Calculate Accuracy\n",
    "accuracy = (1 - (mape / 100)) * 100\n",
    "print(f'Accuracy: {accuracy}%')"
   ]
  }
 ],
 "metadata": {
  "kernelspec": {
   "display_name": ".venv",
   "language": "python",
   "name": "python3"
  },
  "language_info": {
   "codemirror_mode": {
    "name": "ipython",
    "version": 3
   },
   "file_extension": ".py",
   "mimetype": "text/x-python",
   "name": "python",
   "nbconvert_exporter": "python",
   "pygments_lexer": "ipython3",
   "version": "3.11.9"
  }
 },
 "nbformat": 4,
 "nbformat_minor": 2
}
