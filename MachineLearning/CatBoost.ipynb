{
 "cells": [
  {
   "cell_type": "markdown",
   "metadata": {},
   "source": [
    "## CatBoost"
   ]
  },
  {
   "cell_type": "code",
   "execution_count": 3,
   "metadata": {},
   "outputs": [],
   "source": [
    "from catboost import CatBoostRegressor\n",
    "from utility import start\n",
    "from utility import train\n",
    "\n",
    "X_train, X_test, y_train, y_test, df = start(\"encoded_data_04_13.csv\")"
   ]
  },
  {
   "cell_type": "code",
   "execution_count": 4,
   "metadata": {},
   "outputs": [
    {
     "name": "stdout",
     "output_type": "stream",
     "text": [
      "0:\tlearn: 0.0835790\ttotal: 119ms\tremaining: 1m 59s\n",
      "100:\tlearn: 0.0527320\ttotal: 852ms\tremaining: 7.58s\n",
      "200:\tlearn: 0.0431039\ttotal: 1.65s\tremaining: 6.57s\n",
      "300:\tlearn: 0.0393447\ttotal: 2.39s\tremaining: 5.55s\n",
      "400:\tlearn: 0.0376796\ttotal: 3.13s\tremaining: 4.67s\n",
      "500:\tlearn: 0.0368206\ttotal: 3.89s\tremaining: 3.87s\n",
      "600:\tlearn: 0.0362451\ttotal: 4.66s\tremaining: 3.09s\n",
      "700:\tlearn: 0.0358409\ttotal: 5.4s\tremaining: 2.3s\n",
      "800:\tlearn: 0.0355397\ttotal: 6.14s\tremaining: 1.53s\n",
      "900:\tlearn: 0.0352714\ttotal: 6.91s\tremaining: 760ms\n",
      "999:\tlearn: 0.0350472\ttotal: 7.66s\tremaining: 0us\n",
      "Training Set Scores:\n",
      "Mean Absolute Error (MAE): 1.98 M\n",
      "Mean Absolute Percentage Error (MAPE): 58.66 %\n",
      "\n",
      "Test Set Scores:\n",
      "Mean Absolute Error (MAE): 2.01 M\n",
      "Mean Absolute Percentage Error (MAPE): 59.37 %\n"
     ]
    }
   ],
   "source": [
    "\n",
    "model = CatBoostRegressor(iterations=1000,  # Adjust hyperparameters as needed\n",
    "                          learning_rate=0.01,\n",
    "                          depth=5,\n",
    "                          loss_function='MAPE',\n",
    "                          verbose=100)\n",
    "\n",
    "y_pred, y_pred_original, y_test_original = train(model, X_train, X_test, y_train, y_test)\n"
   ]
  }
 ],
 "metadata": {
  "kernelspec": {
   "display_name": ".venv",
   "language": "python",
   "name": "python3"
  },
  "language_info": {
   "codemirror_mode": {
    "name": "ipython",
    "version": 3
   },
   "file_extension": ".py",
   "mimetype": "text/x-python",
   "name": "python",
   "nbconvert_exporter": "python",
   "pygments_lexer": "ipython3",
   "version": "3.11.9"
  }
 },
 "nbformat": 4,
 "nbformat_minor": 2
}
