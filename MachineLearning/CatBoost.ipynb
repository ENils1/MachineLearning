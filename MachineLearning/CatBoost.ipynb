{
 "cells": [
  {
   "cell_type": "markdown",
   "metadata": {},
   "source": [
    "## CatBoost"
   ]
  },
  {
   "cell_type": "code",
   "execution_count": null,
   "metadata": {},
   "outputs": [],
   "source": [
    "from catboost import CatBoostRegressor\n",
    "from utility import start\n",
    "from utility import train\n",
    "\n",
    "X_train, X_test, y_train, y_test, df = start(\"encoded_data_04_13.csv\")"
   ]
  },
  {
   "cell_type": "code",
   "execution_count": null,
   "metadata": {},
   "outputs": [],
   "source": [
    "\n",
    "model = CatBoostRegressor(iterations=1000,  # Adjust hyperparameters as needed\n",
    "                          learning_rate=0.01,\n",
    "                          depth=5,\n",
    "                          loss_function='MAPE',\n",
    "                          verbose=100)\n",
    "\n",
    "y_pred, y_pred_original, y_test_original = train(model, X_train, X_test, y_train, y_test)\n"
   ]
  }
 ],
 "metadata": {
  "kernelspec": {
   "display_name": ".venv",
   "language": "python",
   "name": "python3"
  },
  "language_info": {
   "codemirror_mode": {
    "name": "ipython",
    "version": 3
   },
   "file_extension": ".py",
   "mimetype": "text/x-python",
   "name": "python",
   "nbconvert_exporter": "python",
   "pygments_lexer": "ipython3",
   "version": "3.11.9"
  }
 },
 "nbformat": 4,
 "nbformat_minor": 2
}
