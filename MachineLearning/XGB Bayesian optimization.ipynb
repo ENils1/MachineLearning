{
 "cells": [
  {
   "cell_type": "markdown",
   "metadata": {},
   "source": [
    "# Extreme Gradient Boost\n"
   ]
  },
  {
   "cell_type": "markdown",
   "metadata": {},
   "source": [
    "### Initialization"
   ]
  },
  {
   "cell_type": "code",
   "execution_count": 6,
   "metadata": {},
   "outputs": [
    {
     "name": "stdout",
     "output_type": "stream",
     "text": [
      "Best hyperparameters found: OrderedDict([('colsample_bytree', 0.8828571520137358), ('gamma', 0.001882060327464297), ('learning_rate', 0.018959255879334863), ('max_depth', 10), ('min_child_weight', 1), ('n_estimators', 3392), ('reg_alpha', 0.5866618490815292), ('reg_lambda', 0.2494616485401136), ('subsample', 0.8897907708048053)])\n",
      "Best MAPE found: 0.02974146647749794\n"
     ]
    }
   ],
   "source": [
    "from skopt import BayesSearchCV\n",
    "from xgboost import XGBRegressor\n",
    "from utility import start, train, display\n",
    "import numpy as np\n",
    "# Load data and split into train and test sets\n",
    "X_train, X_test, y_train, y_test, df = start(\"OneHotEncodedData2.csv\")\n",
    "\n",
    "# Define the parameter search space\n",
    "param_space = {\n",
    "    'n_estimators': (2800, 3400),\n",
    "    'max_depth': (9, 11),\n",
    "    'learning_rate': (0.01, 0.2),\n",
    "    'gamma': (0.0, 0.5),\n",
    "    'subsample': (0.5, 1.0),\n",
    "    'colsample_bytree': (0.5, 1.0),\n",
    "    'reg_alpha': (0.0, 1.0),  # Regularization parameter alpha\n",
    "    'reg_lambda': (0.0, 1.0),  # Regularization parameter lambda\n",
    "    'min_child_weight': (1, 10),  # Minimum sum of instance weight (Hessian) needed in a child\n",
    "}\n",
    "\n",
    "# Initialize XGBoost regressor\n",
    "xgb = XGBRegressor()\n",
    "\n",
    "# Initialize Bayesian optimization search with the defined callback\n",
    "bayes_search = BayesSearchCV(\n",
    "    xgb,\n",
    "    param_space,\n",
    "    n_iter=50,  # Number of parameter settings that are sampled\n",
    "    cv=3,       # Cross-validation folds\n",
    "    scoring='neg_mean_absolute_percentage_error',  # MAPE as the metric to minimize\n",
    "    n_jobs=-1,\n",
    ")\n",
    "\n",
    "# Perform the Bayesian optimization search\n",
    "bayes_search.fit(X_train, y_train)\n",
    "\n",
    "# Display the best hyperparameters and MAPE\n",
    "print(\"Best hyperparameters found:\", bayes_search.best_params_)\n",
    "print(\"Best MAPE found:\", abs(bayes_search.best_score_))\n"
   ]
  },
  {
   "cell_type": "code",
   "execution_count": 2,
   "metadata": {},
   "outputs": [
    {
     "name": "stdout",
     "output_type": "stream",
     "text": [
      "Training Set Scores:\n",
      "Mean Absolute Error (MAE): 0.61 M\n",
      "Mean Absolute Percentage Error (MAPE): 15.13 %\n",
      "R-squared (R^2): 0.97\n",
      "Mean Squared Error (MSE): 2836139.47 M\n",
      "\n",
      "Test Set Scores:\n",
      "Mean Absolute Error (MAE): 1.61 M\n",
      "Mean Absolute Percentage Error (MAPE): 45.78 %\n",
      "R-squared (R^2): 0.83\n",
      "Mean Squared Error (MSE): 18799472.96 M\n"
     ]
    }
   ],
   "source": [
    "from xgboost import XGBRegressor\n",
    "from utility import start, train, display\n",
    "from collections import OrderedDict\n",
    "\n",
    "# Load data and split into train and test sets\n",
    "X_train, X_test, y_train, y_test, df = start(\"OneHotEncodedData2.csv\")\n",
    "\n",
    "# Define the best hyperparameters\n",
    "model = XGBRegressor(\n",
    "    n_estimators=3392,\n",
    "    max_depth=10,\n",
    "    learning_rate=0.018959255879334863,\n",
    "    gamma=0.001882060327464297,\n",
    "    subsample=0.8897907708048053,\n",
    "    colsample_bytree=0.8828571520137358,\n",
    "    reg_alpha=0.5866618490815292,\n",
    "    reg_lambda=0.2494616485401136,\n",
    "    min_child_weight=1,\n",
    ")\n",
    "\n",
    "# Train the model and make predictions\n",
    "y_pred, y_pred_original, y_test_original = train(model, X_train, X_test, y_train, y_test)\n"
   ]
  }
 ],
 "metadata": {
  "kernelspec": {
   "display_name": ".venv",
   "language": "python",
   "name": "python3"
  },
  "language_info": {
   "codemirror_mode": {
    "name": "ipython",
    "version": 3
   },
   "file_extension": ".py",
   "mimetype": "text/x-python",
   "name": "python",
   "nbconvert_exporter": "python",
   "pygments_lexer": "ipython3",
   "version": "3.11.9"
  }
 },
 "nbformat": 4,
 "nbformat_minor": 2
}
