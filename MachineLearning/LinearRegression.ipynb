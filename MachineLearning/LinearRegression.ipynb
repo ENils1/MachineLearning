{
 "cells": [
  {
   "cell_type": "markdown",
   "metadata": {},
   "source": [
    "# Linear Regression\n"
   ]
  },
  {
   "cell_type": "markdown",
   "metadata": {},
   "source": [
    "### Initialization"
   ]
  },
  {
   "cell_type": "code",
   "execution_count": null,
   "metadata": {},
   "outputs": [],
   "source": [
    "from sklearn.linear_model import LinearRegression\n",
    "from utility import start\n",
    "from utility import train\n",
    "\n",
    "X_train, X_test, y_train, y_test, df = start(\"encoded_data_04_13.csv\")"
   ]
  },
  {
   "cell_type": "code",
   "execution_count": null,
   "metadata": {},
   "outputs": [],
   "source": [
    "model = LinearRegression()\n",
    "y_pred, y_pred_original, y_test_original = train(model, X_train, X_test, y_train, y_test)"
   ]
  },
  {
   "cell_type": "code",
   "execution_count": null,
   "metadata": {},
   "outputs": [],
   "source": [
    "z = pd.merge(X_test, df, on=['height_in_cm','year','goals_for','goals_against','goals','assists','red_cards','yellow_cards','minutes_played','age_at_evaluation','country_of_citizenship_encoded','sub_position_encoded','club_id_encoded','domestic_competition_id_encoded'])\n",
    "print(z.shape)\n",
    "z.set_index(X_test.index, inplace=True)\n",
    "z['Predicted_Value_log'] = y_pred\n",
    "z['Predicted_Value'] = np.power(10, y_pred)\n",
    "\n",
    "results = z[['name', 'year', 'market_value_in_eur', 'Predicted_Value', 'log_market_value_base10', 'Predicted_Value_log']]\n",
    "results.sort_values(by='Predicted_Value', ascending=False)\n",
    "\n"
   ]
  },
  {
   "cell_type": "code",
   "execution_count": null,
   "metadata": {},
   "outputs": [],
   "source": [
    "import matplotlib.pyplot as plt\n",
    "\n",
    "from matplotlib.ticker import FuncFormatter\n",
    "# Scatter plot\n",
    "plt.scatter(y_test_original, y_pred_original, s=20, color='blue', alpha=0.5)  # Set dot size to 20, blue color, and transparency to 0.5\n",
    "plt.xlabel(\"Real value\")\n",
    "plt.ylabel(\"Predicted value\")\n",
    "plt.title(\"Value vs Predicted value\")\n",
    "\n",
    "# Add diagonal line\n",
    "plt.plot([min(y_test_original), max(y_test_original)], [min(y_test_original), max(y_test_original)], color='red')\n",
    "plt.text(min(y_test_original), max(y_pred_original), \"Over evaluation\", fontsize=10, color='green', verticalalignment='top', horizontalalignment='left')\n",
    "plt.text(max(y_test_original), min(y_pred_original), \"Under evaluation\", fontsize=10, color='orange', verticalalignment='bottom', horizontalalignment='right')\n",
    "\n",
    "# Add player names for values over 50 million\n",
    "for index, row in results.iterrows():\n",
    "    if row['market_value_in_eur'] > 110000000 or row['Predicted_Value'] > 410000000:  # Assuming the value is in EUR\n",
    "        print(row['name'])\n",
    "        plt.annotate(row['name'], (row['market_value_in_eur'], row['Predicted_Value']), fontsize=6, color='black')\n",
    "\n",
    "# Initialize lists for names and coordinates\n",
    "#names = []\n",
    "#coords = []\n",
    "\n",
    "# Add player names for values over 100 million to the lists\n",
    "#for index, row in z.iterrows():\n",
    "#    if row['market_value_in_eur'] > 120000000:  # Assuming the value is in EUR\n",
    "#        names.append(row['name'])\n",
    "##        coords.append((row['market_value_in_eur'], row['Predicted_Value']))\n",
    "\n",
    "# Annotate names as a text box with arrows\n",
    "#for name, coord in zip(names, coords):\n",
    "#    plt.annotate(name, xy=coord, xytext=(0, 0), textcoords='offset points', arrowprops=dict(facecolor='black', arrowstyle='->'), fontsize=6)\n",
    "\n",
    "# Set formatter for x-axis\n",
    "def millions_formatter(x, pos):\n",
    "    return f'{x / 1000000:.0f}M'\n",
    "\n",
    "formatter = FuncFormatter(millions_formatter)\n",
    "plt.gca().xaxis.set_major_formatter(formatter)\n",
    "plt.gca().yaxis.set_major_formatter(formatter)\n",
    "plt.grid(alpha=0.2, zorder=1)\n",
    "plt.show()\n"
   ]
  },
  {
   "cell_type": "code",
   "execution_count": null,
   "metadata": {},
   "outputs": [],
   "source": [
    "import matplotlib.pyplot as plt\n",
    "\n",
    "# Scatter plot\n",
    "plt.scatter(y_test, y_pred, s=20, color='blue', alpha=0.5)  # Set dot size to 20, blue color, and transparency to 0.5\n",
    "plt.xlabel(\"Real value\")\n",
    "plt.ylabel(\"Predicted value\")\n",
    "plt.title(\"Value vs Predicted value\")\n",
    "\n",
    "# Add diagonal line\n",
    "plt.plot([min(y_test), max(y_test)], [min(y_test), max(y_test)], color='red')\n",
    "plt.text(min(y_test), max(y_pred), \"Over evaluation\", fontsize=10, color='green', verticalalignment='top', horizontalalignment='left')\n",
    "plt.text(max(y_test), min(y_pred), \"Under evaluation\", fontsize=10, color='orange', verticalalignment='bottom', horizontalalignment='right')\n",
    "\n",
    "plt.show()\n"
   ]
  }
 ],
 "metadata": {
  "kernelspec": {
   "display_name": ".venv",
   "language": "python",
   "name": "python3"
  },
  "language_info": {
   "codemirror_mode": {
    "name": "ipython",
    "version": 3
   },
   "file_extension": ".py",
   "mimetype": "text/x-python",
   "name": "python",
   "nbconvert_exporter": "python",
   "pygments_lexer": "ipython3",
   "version": "3.11.9"
  }
 },
 "nbformat": 4,
 "nbformat_minor": 2
}
