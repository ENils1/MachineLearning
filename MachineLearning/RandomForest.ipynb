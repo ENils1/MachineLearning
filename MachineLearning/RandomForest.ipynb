{
 "cells": [
  {
   "cell_type": "markdown",
   "metadata": {},
   "source": [
    "# Random Forest\n"
   ]
  },
  {
   "cell_type": "markdown",
   "metadata": {},
   "source": [
    "### Initialization"
   ]
  },
  {
   "cell_type": "code",
   "execution_count": 1,
   "metadata": {},
   "outputs": [],
   "source": [
    "from sklearn.ensemble import RandomForestRegressor\n",
    "from utility import start\n",
    "from utility import train\n",
    "\n",
    "X_train, X_test, y_train, y_test, df = start(\"encoded_data_04_13.csv\")"
   ]
  },
  {
   "cell_type": "code",
   "execution_count": 3,
   "metadata": {},
   "outputs": [
    {
     "name": "stdout",
     "output_type": "stream",
     "text": [
      "Training Set Scores:\n",
      "Mean Absolute Error (MAE): 0.75 M\n",
      "Mean Absolute Percentage Error (MAPE): 17.49 %\n",
      "\n",
      "Test Set Scores:\n",
      "Mean Absolute Error (MAE): 1.82 M\n",
      "Mean Absolute Percentage Error (MAPE): 52.78 %\n"
     ]
    }
   ],
   "source": [
    "model = RandomForestRegressor(n_estimators=50, random_state=42)\n",
    "y_pred, y_pred_original, y_test_original = train(model, X_train, X_test, y_train, y_test)"
   ]
  },
  {
   "cell_type": "markdown",
   "metadata": {},
   "source": []
  }
 ],
 "metadata": {
  "kernelspec": {
   "display_name": ".venv",
   "language": "python",
   "name": "python3"
  },
  "language_info": {
   "codemirror_mode": {
    "name": "ipython",
    "version": 3
   },
   "file_extension": ".py",
   "mimetype": "text/x-python",
   "name": "python",
   "nbconvert_exporter": "python",
   "pygments_lexer": "ipython3",
   "version": "3.11.9"
  }
 },
 "nbformat": 4,
 "nbformat_minor": 2
}
